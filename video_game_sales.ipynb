{
  "cells": [
    {
      "cell_type": "markdown",
      "metadata": {
        "id": "LFIDVBMydi8w"
      },
      "source": [
        "# STAT207 Final Project - Video Game Analysis\n",
        "\n",
        "\n",
        "Aron Rista, Benjamin Leidig, Devon Reynolds, Jon Han"
      ]
    },
    {
      "cell_type": "code",
      "execution_count": null,
      "metadata": {
        "id": "Tcc-Mmrgdi8y"
      },
      "outputs": [],
      "source": [
        "#Imports here\n",
        "import pandas as pd\n",
        "import numpy as np\n",
        "import seaborn as sns\n",
        "import matplotlib.pyplot as plt\n",
        "\n",
        "from sklearn.model_selection import cross_val_score, KFold\n",
        "\n",
        "from sklearn.linear_model import Ridge, Lasso, ElasticNet, LinearRegression, LogisticRegression\n",
        "\n",
        "from sklearn.cluster import KMeans\n",
        "\n",
        "from sklearn.preprocessing import StandardScaler\n",
        "\n",
        "from sklearn.metrics import r2_score, confusion_matrix, roc_curve, auc, roc_auc_score, silhouette_score\n",
        "\n",
        "import warnings\n",
        "from sklearn.exceptions import ConvergenceWarning\n",
        "\n",
        "# Ignore scikit-learn ConvergenceWarnings\n",
        "warnings.filterwarnings(\"ignore\", category=ConvergenceWarning)\n",
        "warnings.filterwarnings(\"ignore\", category=UserWarning)\n",
        "from sklearn.preprocessing import StandardScaler\n",
        "scaler_training = StandardScaler()\n",
        "from sklearn.model_selection import train_test_split\n",
        "import statsmodels.formula.api as smf"
      ]
    },
    {
      "cell_type": "markdown",
      "metadata": {
        "id": "7k0FTuNIdi8z"
      },
      "source": [
        "## 1. Introduction"
      ]
    },
    {
      "cell_type": "markdown",
      "metadata": {
        "id": "qH49qrV5di8z"
      },
      "source": [
        "\n",
        "Our primary research goal of the analysis is to build a predictive model that will perform the best when predicting whether or not a video game has high sales (1 million or more) in new datasets. Ideally, we would like for our chosen model to also yield reliable interpretative insights about the nature of the relationship between the variables in the dataset. We also aim to thoroughly describe the nature of the variables as well as the relationship between the variables used in our model. The explanatory variables we have selected to help us effectively predict if a video game has high sales for new datasets are the publisher, review score, main story length, extras length, and completionists length. Ideally, we would like for our chosen model to also yield reliable interpretative insights about the nature of the relationship between the variables in the dataset as the secondary research goal. The motivation for why someone might want to build a predictive model that predicts if a video game has high sales for new datasets is to possibly determine the profitability of new video games before they release. A video game with higher sales likely is more popular, attracts more customers, and brings in more revenue (Clement, J. (n.d.). Topic: Video game industry. Statista. https://www.statista.com/topics/868/video-games/#topicOverview). If the details of the video game are released before the video game is released, our model will be able to predict if the video game has high sales or not. Someone that may find this predictive model useful is an investor. This is useful for an investor because they may choose to invest money in a company if the model predicts that their new release video game will have high sales and be profitable. If the model predicts that their new release video game will have low sales, that person may not choose to invest in that company and look elsewhere instead. Investment research is an important step that is taken before investors put their money into certain companies, and data and models are a tool that is used to come to a decision, (The Comprehensive Guide to Investment Research. Corporate Finance Institute. (2024, January 9). https://corporatefinanceinstitute.com/resources/capital_markets/comprehensive-guide-to-investment-research/). An investor would desire a classifier that’s equally as accurate at classifying the “positives”, which is all of the video games that are predicted to have high sales, and classifying the “negatives”, which is all of the video games that are predicted to have low sales. The reason why an investor would want a classifier that is equally as accurate for both is because they want to make the right decisions and investments with their money. An investor wants to only invest their money into video games that are predicted to have high sales and also does not want to waste or lose their money by investing it into video games that are predicted to have low sales."
      ]
    },
    {
      "cell_type": "markdown",
      "metadata": {
        "id": "L061bAEQdi8z"
      },
      "source": [
        "## 2. Dataset Discussion"
      ]
    },
    {
      "cell_type": "markdown",
      "metadata": {
        "id": "jrGvw3-jdi8z"
      },
      "source": [
        "We got this dataset from Dr. Ellison, who originally got it from https://corgis-edu.github.io/corgis/csv/video_games/. We downloaded this csv file on 4/17/2024, however, Dr. Ellison downloaded this csv file on 9/8/2023 to provide students with a pre-selected dataset option. Each row represents an individual video game title along with its corresponding data. The source of the dataset tells us that the playtime information was collected from crowd-sourced data on \"How Long to Beat\". The source of the dataset does not specify how the rest of this dataset was collected, however it is likely that the data was collected using information found online. This dataset examines video games that were released between 2004 and 2010.\n",
        "\n",
        "\n"
      ]
    },
    {
      "cell_type": "code",
      "execution_count": null,
      "metadata": {
        "colab": {
          "base_uri": "https://localhost:8080/"
        },
        "id": "as8Er3gvgsgi",
        "outputId": "0b156ac6-29bb-4fc6-d418-6c864f6b8f94"
      },
      "outputs": [
        {
          "output_type": "stream",
          "name": "stdout",
          "text": [
            "Mounted at /content/drive\n"
          ]
        }
      ],
      "source": [
        "from google.colab import drive\n",
        "drive.mount('/content/drive')"
      ]
    },
    {
      "cell_type": "code",
      "execution_count": null,
      "metadata": {
        "id": "0uZSnUOYdi8z"
      },
      "outputs": [],
      "source": [
        "df = pd.read_csv('https://corgis-edu.github.io/corgis/datasets/csv/video_games/video_games.csv')"
      ]
    },
    {
      "cell_type": "code",
      "execution_count": null,
      "metadata": {
        "id": "DB9hgAvcqB0k"
      },
      "outputs": [],
      "source": [
        "df['high_sales'] = 1 * (df['Metrics.Sales'] >= 1)"
      ]
    },
    {
      "cell_type": "code",
      "source": [
        "df.head()"
      ],
      "metadata": {
        "colab": {
          "base_uri": "https://localhost:8080/",
          "height": 412
        },
        "id": "uQ4bsGdxkZ_R",
        "outputId": "3e2261e7-1e2a-46cb-b67a-f294298807b2"
      },
      "execution_count": null,
      "outputs": [
        {
          "output_type": "execute_result",
          "data": {
            "text/plain": [
              "                      Title  Features.Handheld?  Features.Max Players  \\\n",
              "0         Super Mario 64 DS                True                     1   \n",
              "1    Lumines: Puzzle Fusion                True                     1   \n",
              "2        WarioWare Touched!                True                     2   \n",
              "3  Hot Shots Golf: Open Tee                True                     1   \n",
              "4              Spider-Man 2                True                     1   \n",
              "\n",
              "   Features.Multiplatform?  Features.Online?                 Metadata.Genres  \\\n",
              "0                     True              True                          Action   \n",
              "1                     True              True                        Strategy   \n",
              "2                     True              True  Action,Racing / Driving,Sports   \n",
              "3                     True              True                          Sports   \n",
              "4                     True              True                          Action   \n",
              "\n",
              "   Metadata.Licensed? Metadata.Publishers  Metadata.Sequel?  \\\n",
              "0                True            Nintendo              True   \n",
              "1                True             Ubisoft              True   \n",
              "2                True            Nintendo              True   \n",
              "3                True                Sony              True   \n",
              "4                True          Activision              True   \n",
              "\n",
              "   Metrics.Review Score  ...  Length.Main + Extras.Leisure  \\\n",
              "0                    85  ...                     29.966667   \n",
              "1                    89  ...                      9.866667   \n",
              "2                    81  ...                      5.666667   \n",
              "3                    81  ...                      0.000000   \n",
              "4                    61  ...                     17.316667   \n",
              "\n",
              "   Length.Main + Extras.Median Length.Main + Extras.Polled  \\\n",
              "0                    25.000000                          16   \n",
              "1                     9.750000                           2   \n",
              "2                     3.333333                          11   \n",
              "3                     0.000000                           0   \n",
              "4                    12.500000                          12   \n",
              "\n",
              "  Length.Main + Extras.Rushed  Length.Main Story.Average  \\\n",
              "0                   18.333333                  14.333333   \n",
              "1                    9.616667                  10.333333   \n",
              "2                    2.783333                   1.916667   \n",
              "3                    0.000000                   0.000000   \n",
              "4                   10.483333                   8.350000   \n",
              "\n",
              "   Length.Main Story.Leisure  Length.Main Story.Median  \\\n",
              "0                  18.316667                 14.500000   \n",
              "1                  11.083333                 10.000000   \n",
              "2                   2.933333                  1.833333   \n",
              "3                   0.000000                  0.000000   \n",
              "4                  11.083333                  8.000000   \n",
              "\n",
              "   Length.Main Story.Polled  Length.Main Story.Rushed  high_sales  \n",
              "0                        21                  9.700000           1  \n",
              "1                         3                  9.583333           0  \n",
              "2                        30                  1.433333           0  \n",
              "3                         0                  0.000000           0  \n",
              "4                        23                  5.333333           0  \n",
              "\n",
              "[5 rows x 37 columns]"
            ],
            "text/html": [
              "\n",
              "  <div id=\"df-efb5c109-144d-4836-92ea-e12b42a455ca\" class=\"colab-df-container\">\n",
              "    <div>\n",
              "<style scoped>\n",
              "    .dataframe tbody tr th:only-of-type {\n",
              "        vertical-align: middle;\n",
              "    }\n",
              "\n",
              "    .dataframe tbody tr th {\n",
              "        vertical-align: top;\n",
              "    }\n",
              "\n",
              "    .dataframe thead th {\n",
              "        text-align: right;\n",
              "    }\n",
              "</style>\n",
              "<table border=\"1\" class=\"dataframe\">\n",
              "  <thead>\n",
              "    <tr style=\"text-align: right;\">\n",
              "      <th></th>\n",
              "      <th>Title</th>\n",
              "      <th>Features.Handheld?</th>\n",
              "      <th>Features.Max Players</th>\n",
              "      <th>Features.Multiplatform?</th>\n",
              "      <th>Features.Online?</th>\n",
              "      <th>Metadata.Genres</th>\n",
              "      <th>Metadata.Licensed?</th>\n",
              "      <th>Metadata.Publishers</th>\n",
              "      <th>Metadata.Sequel?</th>\n",
              "      <th>Metrics.Review Score</th>\n",
              "      <th>...</th>\n",
              "      <th>Length.Main + Extras.Leisure</th>\n",
              "      <th>Length.Main + Extras.Median</th>\n",
              "      <th>Length.Main + Extras.Polled</th>\n",
              "      <th>Length.Main + Extras.Rushed</th>\n",
              "      <th>Length.Main Story.Average</th>\n",
              "      <th>Length.Main Story.Leisure</th>\n",
              "      <th>Length.Main Story.Median</th>\n",
              "      <th>Length.Main Story.Polled</th>\n",
              "      <th>Length.Main Story.Rushed</th>\n",
              "      <th>high_sales</th>\n",
              "    </tr>\n",
              "  </thead>\n",
              "  <tbody>\n",
              "    <tr>\n",
              "      <th>0</th>\n",
              "      <td>Super Mario 64 DS</td>\n",
              "      <td>True</td>\n",
              "      <td>1</td>\n",
              "      <td>True</td>\n",
              "      <td>True</td>\n",
              "      <td>Action</td>\n",
              "      <td>True</td>\n",
              "      <td>Nintendo</td>\n",
              "      <td>True</td>\n",
              "      <td>85</td>\n",
              "      <td>...</td>\n",
              "      <td>29.966667</td>\n",
              "      <td>25.000000</td>\n",
              "      <td>16</td>\n",
              "      <td>18.333333</td>\n",
              "      <td>14.333333</td>\n",
              "      <td>18.316667</td>\n",
              "      <td>14.500000</td>\n",
              "      <td>21</td>\n",
              "      <td>9.700000</td>\n",
              "      <td>1</td>\n",
              "    </tr>\n",
              "    <tr>\n",
              "      <th>1</th>\n",
              "      <td>Lumines: Puzzle Fusion</td>\n",
              "      <td>True</td>\n",
              "      <td>1</td>\n",
              "      <td>True</td>\n",
              "      <td>True</td>\n",
              "      <td>Strategy</td>\n",
              "      <td>True</td>\n",
              "      <td>Ubisoft</td>\n",
              "      <td>True</td>\n",
              "      <td>89</td>\n",
              "      <td>...</td>\n",
              "      <td>9.866667</td>\n",
              "      <td>9.750000</td>\n",
              "      <td>2</td>\n",
              "      <td>9.616667</td>\n",
              "      <td>10.333333</td>\n",
              "      <td>11.083333</td>\n",
              "      <td>10.000000</td>\n",
              "      <td>3</td>\n",
              "      <td>9.583333</td>\n",
              "      <td>0</td>\n",
              "    </tr>\n",
              "    <tr>\n",
              "      <th>2</th>\n",
              "      <td>WarioWare Touched!</td>\n",
              "      <td>True</td>\n",
              "      <td>2</td>\n",
              "      <td>True</td>\n",
              "      <td>True</td>\n",
              "      <td>Action,Racing / Driving,Sports</td>\n",
              "      <td>True</td>\n",
              "      <td>Nintendo</td>\n",
              "      <td>True</td>\n",
              "      <td>81</td>\n",
              "      <td>...</td>\n",
              "      <td>5.666667</td>\n",
              "      <td>3.333333</td>\n",
              "      <td>11</td>\n",
              "      <td>2.783333</td>\n",
              "      <td>1.916667</td>\n",
              "      <td>2.933333</td>\n",
              "      <td>1.833333</td>\n",
              "      <td>30</td>\n",
              "      <td>1.433333</td>\n",
              "      <td>0</td>\n",
              "    </tr>\n",
              "    <tr>\n",
              "      <th>3</th>\n",
              "      <td>Hot Shots Golf: Open Tee</td>\n",
              "      <td>True</td>\n",
              "      <td>1</td>\n",
              "      <td>True</td>\n",
              "      <td>True</td>\n",
              "      <td>Sports</td>\n",
              "      <td>True</td>\n",
              "      <td>Sony</td>\n",
              "      <td>True</td>\n",
              "      <td>81</td>\n",
              "      <td>...</td>\n",
              "      <td>0.000000</td>\n",
              "      <td>0.000000</td>\n",
              "      <td>0</td>\n",
              "      <td>0.000000</td>\n",
              "      <td>0.000000</td>\n",
              "      <td>0.000000</td>\n",
              "      <td>0.000000</td>\n",
              "      <td>0</td>\n",
              "      <td>0.000000</td>\n",
              "      <td>0</td>\n",
              "    </tr>\n",
              "    <tr>\n",
              "      <th>4</th>\n",
              "      <td>Spider-Man 2</td>\n",
              "      <td>True</td>\n",
              "      <td>1</td>\n",
              "      <td>True</td>\n",
              "      <td>True</td>\n",
              "      <td>Action</td>\n",
              "      <td>True</td>\n",
              "      <td>Activision</td>\n",
              "      <td>True</td>\n",
              "      <td>61</td>\n",
              "      <td>...</td>\n",
              "      <td>17.316667</td>\n",
              "      <td>12.500000</td>\n",
              "      <td>12</td>\n",
              "      <td>10.483333</td>\n",
              "      <td>8.350000</td>\n",
              "      <td>11.083333</td>\n",
              "      <td>8.000000</td>\n",
              "      <td>23</td>\n",
              "      <td>5.333333</td>\n",
              "      <td>0</td>\n",
              "    </tr>\n",
              "  </tbody>\n",
              "</table>\n",
              "<p>5 rows × 37 columns</p>\n",
              "</div>\n",
              "    <div class=\"colab-df-buttons\">\n",
              "\n",
              "  <div class=\"colab-df-container\">\n",
              "    <button class=\"colab-df-convert\" onclick=\"convertToInteractive('df-efb5c109-144d-4836-92ea-e12b42a455ca')\"\n",
              "            title=\"Convert this dataframe to an interactive table.\"\n",
              "            style=\"display:none;\">\n",
              "\n",
              "  <svg xmlns=\"http://www.w3.org/2000/svg\" height=\"24px\" viewBox=\"0 -960 960 960\">\n",
              "    <path d=\"M120-120v-720h720v720H120Zm60-500h600v-160H180v160Zm220 220h160v-160H400v160Zm0 220h160v-160H400v160ZM180-400h160v-160H180v160Zm440 0h160v-160H620v160ZM180-180h160v-160H180v160Zm440 0h160v-160H620v160Z\"/>\n",
              "  </svg>\n",
              "    </button>\n",
              "\n",
              "  <style>\n",
              "    .colab-df-container {\n",
              "      display:flex;\n",
              "      gap: 12px;\n",
              "    }\n",
              "\n",
              "    .colab-df-convert {\n",
              "      background-color: #E8F0FE;\n",
              "      border: none;\n",
              "      border-radius: 50%;\n",
              "      cursor: pointer;\n",
              "      display: none;\n",
              "      fill: #1967D2;\n",
              "      height: 32px;\n",
              "      padding: 0 0 0 0;\n",
              "      width: 32px;\n",
              "    }\n",
              "\n",
              "    .colab-df-convert:hover {\n",
              "      background-color: #E2EBFA;\n",
              "      box-shadow: 0px 1px 2px rgba(60, 64, 67, 0.3), 0px 1px 3px 1px rgba(60, 64, 67, 0.15);\n",
              "      fill: #174EA6;\n",
              "    }\n",
              "\n",
              "    .colab-df-buttons div {\n",
              "      margin-bottom: 4px;\n",
              "    }\n",
              "\n",
              "    [theme=dark] .colab-df-convert {\n",
              "      background-color: #3B4455;\n",
              "      fill: #D2E3FC;\n",
              "    }\n",
              "\n",
              "    [theme=dark] .colab-df-convert:hover {\n",
              "      background-color: #434B5C;\n",
              "      box-shadow: 0px 1px 3px 1px rgba(0, 0, 0, 0.15);\n",
              "      filter: drop-shadow(0px 1px 2px rgba(0, 0, 0, 0.3));\n",
              "      fill: #FFFFFF;\n",
              "    }\n",
              "  </style>\n",
              "\n",
              "    <script>\n",
              "      const buttonEl =\n",
              "        document.querySelector('#df-efb5c109-144d-4836-92ea-e12b42a455ca button.colab-df-convert');\n",
              "      buttonEl.style.display =\n",
              "        google.colab.kernel.accessAllowed ? 'block' : 'none';\n",
              "\n",
              "      async function convertToInteractive(key) {\n",
              "        const element = document.querySelector('#df-efb5c109-144d-4836-92ea-e12b42a455ca');\n",
              "        const dataTable =\n",
              "          await google.colab.kernel.invokeFunction('convertToInteractive',\n",
              "                                                    [key], {});\n",
              "        if (!dataTable) return;\n",
              "\n",
              "        const docLinkHtml = 'Like what you see? Visit the ' +\n",
              "          '<a target=\"_blank\" href=https://colab.research.google.com/notebooks/data_table.ipynb>data table notebook</a>'\n",
              "          + ' to learn more about interactive tables.';\n",
              "        element.innerHTML = '';\n",
              "        dataTable['output_type'] = 'display_data';\n",
              "        await google.colab.output.renderOutput(dataTable, element);\n",
              "        const docLink = document.createElement('div');\n",
              "        docLink.innerHTML = docLinkHtml;\n",
              "        element.appendChild(docLink);\n",
              "      }\n",
              "    </script>\n",
              "  </div>\n",
              "\n",
              "\n",
              "<div id=\"df-9a112983-44e2-4330-9ad4-94b34ddbd879\">\n",
              "  <button class=\"colab-df-quickchart\" onclick=\"quickchart('df-9a112983-44e2-4330-9ad4-94b34ddbd879')\"\n",
              "            title=\"Suggest charts\"\n",
              "            style=\"display:none;\">\n",
              "\n",
              "<svg xmlns=\"http://www.w3.org/2000/svg\" height=\"24px\"viewBox=\"0 0 24 24\"\n",
              "     width=\"24px\">\n",
              "    <g>\n",
              "        <path d=\"M19 3H5c-1.1 0-2 .9-2 2v14c0 1.1.9 2 2 2h14c1.1 0 2-.9 2-2V5c0-1.1-.9-2-2-2zM9 17H7v-7h2v7zm4 0h-2V7h2v10zm4 0h-2v-4h2v4z\"/>\n",
              "    </g>\n",
              "</svg>\n",
              "  </button>\n",
              "\n",
              "<style>\n",
              "  .colab-df-quickchart {\n",
              "      --bg-color: #E8F0FE;\n",
              "      --fill-color: #1967D2;\n",
              "      --hover-bg-color: #E2EBFA;\n",
              "      --hover-fill-color: #174EA6;\n",
              "      --disabled-fill-color: #AAA;\n",
              "      --disabled-bg-color: #DDD;\n",
              "  }\n",
              "\n",
              "  [theme=dark] .colab-df-quickchart {\n",
              "      --bg-color: #3B4455;\n",
              "      --fill-color: #D2E3FC;\n",
              "      --hover-bg-color: #434B5C;\n",
              "      --hover-fill-color: #FFFFFF;\n",
              "      --disabled-bg-color: #3B4455;\n",
              "      --disabled-fill-color: #666;\n",
              "  }\n",
              "\n",
              "  .colab-df-quickchart {\n",
              "    background-color: var(--bg-color);\n",
              "    border: none;\n",
              "    border-radius: 50%;\n",
              "    cursor: pointer;\n",
              "    display: none;\n",
              "    fill: var(--fill-color);\n",
              "    height: 32px;\n",
              "    padding: 0;\n",
              "    width: 32px;\n",
              "  }\n",
              "\n",
              "  .colab-df-quickchart:hover {\n",
              "    background-color: var(--hover-bg-color);\n",
              "    box-shadow: 0 1px 2px rgba(60, 64, 67, 0.3), 0 1px 3px 1px rgba(60, 64, 67, 0.15);\n",
              "    fill: var(--button-hover-fill-color);\n",
              "  }\n",
              "\n",
              "  .colab-df-quickchart-complete:disabled,\n",
              "  .colab-df-quickchart-complete:disabled:hover {\n",
              "    background-color: var(--disabled-bg-color);\n",
              "    fill: var(--disabled-fill-color);\n",
              "    box-shadow: none;\n",
              "  }\n",
              "\n",
              "  .colab-df-spinner {\n",
              "    border: 2px solid var(--fill-color);\n",
              "    border-color: transparent;\n",
              "    border-bottom-color: var(--fill-color);\n",
              "    animation:\n",
              "      spin 1s steps(1) infinite;\n",
              "  }\n",
              "\n",
              "  @keyframes spin {\n",
              "    0% {\n",
              "      border-color: transparent;\n",
              "      border-bottom-color: var(--fill-color);\n",
              "      border-left-color: var(--fill-color);\n",
              "    }\n",
              "    20% {\n",
              "      border-color: transparent;\n",
              "      border-left-color: var(--fill-color);\n",
              "      border-top-color: var(--fill-color);\n",
              "    }\n",
              "    30% {\n",
              "      border-color: transparent;\n",
              "      border-left-color: var(--fill-color);\n",
              "      border-top-color: var(--fill-color);\n",
              "      border-right-color: var(--fill-color);\n",
              "    }\n",
              "    40% {\n",
              "      border-color: transparent;\n",
              "      border-right-color: var(--fill-color);\n",
              "      border-top-color: var(--fill-color);\n",
              "    }\n",
              "    60% {\n",
              "      border-color: transparent;\n",
              "      border-right-color: var(--fill-color);\n",
              "    }\n",
              "    80% {\n",
              "      border-color: transparent;\n",
              "      border-right-color: var(--fill-color);\n",
              "      border-bottom-color: var(--fill-color);\n",
              "    }\n",
              "    90% {\n",
              "      border-color: transparent;\n",
              "      border-bottom-color: var(--fill-color);\n",
              "    }\n",
              "  }\n",
              "</style>\n",
              "\n",
              "  <script>\n",
              "    async function quickchart(key) {\n",
              "      const quickchartButtonEl =\n",
              "        document.querySelector('#' + key + ' button');\n",
              "      quickchartButtonEl.disabled = true;  // To prevent multiple clicks.\n",
              "      quickchartButtonEl.classList.add('colab-df-spinner');\n",
              "      try {\n",
              "        const charts = await google.colab.kernel.invokeFunction(\n",
              "            'suggestCharts', [key], {});\n",
              "      } catch (error) {\n",
              "        console.error('Error during call to suggestCharts:', error);\n",
              "      }\n",
              "      quickchartButtonEl.classList.remove('colab-df-spinner');\n",
              "      quickchartButtonEl.classList.add('colab-df-quickchart-complete');\n",
              "    }\n",
              "    (() => {\n",
              "      let quickchartButtonEl =\n",
              "        document.querySelector('#df-9a112983-44e2-4330-9ad4-94b34ddbd879 button');\n",
              "      quickchartButtonEl.style.display =\n",
              "        google.colab.kernel.accessAllowed ? 'block' : 'none';\n",
              "    })();\n",
              "  </script>\n",
              "</div>\n",
              "    </div>\n",
              "  </div>\n"
            ],
            "application/vnd.google.colaboratory.intrinsic+json": {
              "type": "dataframe",
              "variable_name": "df"
            }
          },
          "metadata": {},
          "execution_count": 6
        }
      ]
    },
    {
      "cell_type": "code",
      "execution_count": null,
      "metadata": {
        "colab": {
          "base_uri": "https://localhost:8080/"
        },
        "id": "yTGXCj6vdi8z",
        "outputId": "ea2ce6e3-fd77-46d9-f007-27725f12c417"
      },
      "outputs": [
        {
          "output_type": "execute_result",
          "data": {
            "text/plain": [
              "1212"
            ]
          },
          "metadata": {},
          "execution_count": 7
        }
      ],
      "source": [
        " df.shape[0]"
      ]
    },
    {
      "cell_type": "markdown",
      "metadata": {
        "id": "LDapAfHIdi8z"
      },
      "source": [
        "There are 1212 rows in our dataframe before any data cleaning."
      ]
    },
    {
      "cell_type": "markdown",
      "metadata": {
        "id": "di0mYdSrdi8z"
      },
      "source": [
        "## 3. Dataset Cleaning"
      ]
    },
    {
      "cell_type": "code",
      "execution_count": null,
      "metadata": {
        "id": "Hfr_MmQ6p6ho"
      },
      "outputs": [],
      "source": [
        "df_clean = df[(df['Metadata.Publishers'] == 'EA') | (df['Metadata.Publishers'] == 'Ubisoft') | (df['Metadata.Publishers'] == 'Activision') | (df['Metadata.Publishers'] == 'Nintendo') | (df['Metadata.Publishers'] == 'Sega')]"
      ]
    },
    {
      "cell_type": "code",
      "execution_count": null,
      "metadata": {
        "colab": {
          "base_uri": "https://localhost:8080/"
        },
        "id": "CIaMrOKqqjmy",
        "outputId": "8b08d37e-8c47-4c87-f483-3e86dcc5a244"
      },
      "outputs": [
        {
          "output_type": "stream",
          "name": "stdout",
          "text": [
            "Rows dropped:  708\n"
          ]
        }
      ],
      "source": [
        "print('Rows dropped: ', df.shape[0] - df_clean.shape[0])"
      ]
    },
    {
      "cell_type": "code",
      "execution_count": null,
      "metadata": {
        "id": "GitzoMxyp-Dq",
        "colab": {
          "base_uri": "https://localhost:8080/"
        },
        "outputId": "a03844ca-5239-463e-b591-3482408aa8bd"
      },
      "outputs": [
        {
          "output_type": "stream",
          "name": "stderr",
          "text": [
            "<ipython-input-71-019d0d54c4fc>:9: SettingWithCopyWarning: \n",
            "A value is trying to be set on a copy of a slice from a DataFrame\n",
            "\n",
            "See the caveats in the documentation: https://pandas.pydata.org/pandas-docs/stable/user_guide/indexing.html#returning-a-view-versus-a-copy\n",
            "  df_clean.rename(columns = {'Metadata.Publishers':'publisher',\n"
          ]
        }
      ],
      "source": [
        "df_clean = df_clean[['high_sales',\n",
        "         'Metadata.Publishers',\n",
        "         'Metrics.Review Score',\n",
        "         'Length.Main Story.Average',\n",
        "         'Length.Main + Extras.Average',\n",
        "         'Length.Completionists.Average'\n",
        "         ]]\n",
        "\n",
        "df_clean.rename(columns = {'Metadata.Publishers':'publisher',\n",
        "                     'Metrics.Review Score': 'review_score',\n",
        "                     'Length.Main Story.Average': 'main_story_length',\n",
        "                     'Length.Main + Extras.Average': 'extras_length',\n",
        "                     'Length.Completionists.Average': 'completionists_length',\n",
        "                    },\n",
        "          inplace = True\n",
        "          )"
      ]
    },
    {
      "cell_type": "code",
      "execution_count": null,
      "metadata": {
        "colab": {
          "base_uri": "https://localhost:8080/"
        },
        "id": "XLv7sGD2qeCj",
        "outputId": "66a2a0e9-e963-43fc-b9c4-6a78d9419a7f"
      },
      "outputs": [
        {
          "output_type": "execute_result",
          "data": {
            "text/plain": [
              "high_sales                 int64\n",
              "publisher                 object\n",
              "review_score               int64\n",
              "main_story_length        float64\n",
              "extras_length            float64\n",
              "completionists_length    float64\n",
              "dtype: object"
            ]
          },
          "metadata": {},
          "execution_count": 11
        }
      ],
      "source": [
        "df_clean.dtypes"
      ]
    },
    {
      "cell_type": "code",
      "execution_count": null,
      "metadata": {
        "colab": {
          "base_uri": "https://localhost:8080/"
        },
        "id": "HnsaZ9-CqfbU",
        "outputId": "2aaa9fc3-7d58-42a0-e532-86585b0cf9fa"
      },
      "outputs": [
        {
          "output_type": "execute_result",
          "data": {
            "text/plain": [
              "high_sales               0\n",
              "publisher                0\n",
              "review_score             0\n",
              "main_story_length        0\n",
              "extras_length            0\n",
              "completionists_length    0\n",
              "dtype: int64"
            ]
          },
          "metadata": {},
          "execution_count": 12
        }
      ],
      "source": [
        "df_clean.isna().sum()"
      ]
    },
    {
      "cell_type": "markdown",
      "metadata": {
        "id": "Tcoax3QWo9Jl"
      },
      "source": [
        "There are no implicit missing values because the datatypes for every column match up to what they should be."
      ]
    },
    {
      "cell_type": "markdown",
      "metadata": {
        "id": "000if-N8pYq0"
      },
      "source": [
        "We choose to maintain and preserve the rest of the dataset instead of further cleaning it. There is a possibility that some video games are outliers in the dataset, skewing our data to 'less typical' observations. However, the reason that we choose to keep all of the rows is because we want the dataset to be as representative with as many video games as possible. Keeping the outliers also potentially makes our dataset representative of a wider range of observations. We did, however, drop 708 rows to use video games published by only the top 5 most popular publishers in the dataset."
      ]
    },
    {
      "cell_type": "markdown",
      "metadata": {
        "id": "yjy4XfDrdi80"
      },
      "source": [
        "## 4. Preliminary Analysis"
      ]
    },
    {
      "cell_type": "code",
      "execution_count": null,
      "metadata": {
        "colab": {
          "base_uri": "https://localhost:8080/",
          "height": 462
        },
        "id": "WrZkevC2zuDb",
        "outputId": "7312de88-24d6-4dfd-f28f-c752a7ddc9bc"
      },
      "outputs": [
        {
          "output_type": "execute_result",
          "data": {
            "text/plain": [
              "<Axes: xlabel='high_sales'>"
            ]
          },
          "metadata": {},
          "execution_count": 17
        },
        {
          "output_type": "display_data",
          "data": {
            "text/plain": [
              "<Figure size 640x480 with 1 Axes>"
            ],
            "image/png": "[encoded data removed]"
          },
          "metadata": {}
        }
      ],
      "source": [
        "catplot = pd.crosstab(df_clean['high_sales'] , df_clean['publisher'], normalize = 'index')\n",
        "catplot.plot.bar()"
      ]
    },
    {
      "cell_type": "markdown",
      "metadata": {
        "id": "G6Qd_iOO0UQp"
      },
      "source": [
        "There is a significant relationship between `publisher` and `high_sales` because the differences of between box heights changes for different values of `high_sales`."
      ]
    },
    {
      "cell_type": "code",
      "source": [
        "sns.pairplot(data = df_clean)"
      ],
      "metadata": {
        "colab": {
          "base_uri": "https://localhost:8080/",
          "height": 1000
        },
        "id": "6nNK5QdySmkO",
        "outputId": "11173f68-a6f2-4a34-a201-09370d1f8fa2"
      },
      "execution_count": null,
      "outputs": [
        {
          "output_type": "execute_result",
          "data": {
            "text/plain": [
              "<seaborn.axisgrid.PairGrid at 0x7ababb6ba800>"
            ]
          },
          "metadata": {},
          "execution_count": 77
        },
        {
          "output_type": "display_data",
          "data": {
            "text/plain": [
              "<Figure size 1250x1250 with 30 Axes>"
            ],
            "image/png": "[encoded data removed]"
          },
          "metadata": {}
        }
      ]
    },
    {
      "cell_type": "code",
      "execution_count": null,
      "metadata": {
        "colab": {
          "base_uri": "https://localhost:8080/",
          "height": 206
        },
        "id": "nD5bjj1WpQh7",
        "outputId": "5c4ecebf-81f9-41e5-93aa-b117b2006036"
      },
      "outputs": [
        {
          "output_type": "execute_result",
          "data": {
            "text/plain": [
              "                       high_sales  review_score  main_story_length  \\\n",
              "high_sales               1.000000      0.310895           0.224361   \n",
              "review_score             0.310895      1.000000           0.253229   \n",
              "main_story_length        0.224361      0.253229           1.000000   \n",
              "extras_length            0.203533      0.196390           0.546984   \n",
              "completionists_length    0.261878      0.170776           0.687275   \n",
              "\n",
              "                       extras_length  completionists_length  \n",
              "high_sales                  0.203533               0.261878  \n",
              "review_score                0.196390               0.170776  \n",
              "main_story_length           0.546984               0.687275  \n",
              "extras_length               1.000000               0.466953  \n",
              "completionists_length       0.466953               1.000000  "
            ],
            "text/html": [
              "\n",
              "  <div id=\"df-b8b585ba-b4d4-43ac-8eb9-9396610061d6\" class=\"colab-df-container\">\n",
              "    <div>\n",
              "<style scoped>\n",
              "    .dataframe tbody tr th:only-of-type {\n",
              "        vertical-align: middle;\n",
              "    }\n",
              "\n",
              "    .dataframe tbody tr th {\n",
              "        vertical-align: top;\n",
              "    }\n",
              "\n",
              "    .dataframe thead th {\n",
              "        text-align: right;\n",
              "    }\n",
              "</style>\n",
              "<table border=\"1\" class=\"dataframe\">\n",
              "  <thead>\n",
              "    <tr style=\"text-align: right;\">\n",
              "      <th></th>\n",
              "      <th>high_sales</th>\n",
              "      <th>review_score</th>\n",
              "      <th>main_story_length</th>\n",
              "      <th>extras_length</th>\n",
              "      <th>completionists_length</th>\n",
              "    </tr>\n",
              "  </thead>\n",
              "  <tbody>\n",
              "    <tr>\n",
              "      <th>high_sales</th>\n",
              "      <td>1.000000</td>\n",
              "      <td>0.310895</td>\n",
              "      <td>0.224361</td>\n",
              "      <td>0.203533</td>\n",
              "      <td>0.261878</td>\n",
              "    </tr>\n",
              "    <tr>\n",
              "      <th>review_score</th>\n",
              "      <td>0.310895</td>\n",
              "      <td>1.000000</td>\n",
              "      <td>0.253229</td>\n",
              "      <td>0.196390</td>\n",
              "      <td>0.170776</td>\n",
              "    </tr>\n",
              "    <tr>\n",
              "      <th>main_story_length</th>\n",
              "      <td>0.224361</td>\n",
              "      <td>0.253229</td>\n",
              "      <td>1.000000</td>\n",
              "      <td>0.546984</td>\n",
              "      <td>0.687275</td>\n",
              "    </tr>\n",
              "    <tr>\n",
              "      <th>extras_length</th>\n",
              "      <td>0.203533</td>\n",
              "      <td>0.196390</td>\n",
              "      <td>0.546984</td>\n",
              "      <td>1.000000</td>\n",
              "      <td>0.466953</td>\n",
              "    </tr>\n",
              "    <tr>\n",
              "      <th>completionists_length</th>\n",
              "      <td>0.261878</td>\n",
              "      <td>0.170776</td>\n",
              "      <td>0.687275</td>\n",
              "      <td>0.466953</td>\n",
              "      <td>1.000000</td>\n",
              "    </tr>\n",
              "  </tbody>\n",
              "</table>\n",
              "</div>\n",
              "    <div class=\"colab-df-buttons\">\n",
              "\n",
              "  <div class=\"colab-df-container\">\n",
              "    <button class=\"colab-df-convert\" onclick=\"convertToInteractive('df-b8b585ba-b4d4-43ac-8eb9-9396610061d6')\"\n",
              "            title=\"Convert this dataframe to an interactive table.\"\n",
              "            style=\"display:none;\">\n",
              "\n",
              "  <svg xmlns=\"http://www.w3.org/2000/svg\" height=\"24px\" viewBox=\"0 -960 960 960\">\n",
              "    <path d=\"M120-120v-720h720v720H120Zm60-500h600v-160H180v160Zm220 220h160v-160H400v160Zm0 220h160v-160H400v160ZM180-400h160v-160H180v160Zm440 0h160v-160H620v160ZM180-180h160v-160H180v160Zm440 0h160v-160H620v160Z\"/>\n",
              "  </svg>\n",
              "    </button>\n",
              "\n",
              "  <style>\n",
              "    .colab-df-container {\n",
              "      display:flex;\n",
              "      gap: 12px;\n",
              "    }\n",
              "\n",
              "    .colab-df-convert {\n",
              "      background-color: #E8F0FE;\n",
              "      border: none;\n",
              "      border-radius: 50%;\n",
              "      cursor: pointer;\n",
              "      display: none;\n",
              "      fill: #1967D2;\n",
              "      height: 32px;\n",
              "      padding: 0 0 0 0;\n",
              "      width: 32px;\n",
              "    }\n",
              "\n",
              "    .colab-df-convert:hover {\n",
              "      background-color: #E2EBFA;\n",
              "      box-shadow: 0px 1px 2px rgba(60, 64, 67, 0.3), 0px 1px 3px 1px rgba(60, 64, 67, 0.15);\n",
              "      fill: #174EA6;\n",
              "    }\n",
              "\n",
              "    .colab-df-buttons div {\n",
              "      margin-bottom: 4px;\n",
              "    }\n",
              "\n",
              "    [theme=dark] .colab-df-convert {\n",
              "      background-color: #3B4455;\n",
              "      fill: #D2E3FC;\n",
              "    }\n",
              "\n",
              "    [theme=dark] .colab-df-convert:hover {\n",
              "      background-color: #434B5C;\n",
              "      box-shadow: 0px 1px 3px 1px rgba(0, 0, 0, 0.15);\n",
              "      filter: drop-shadow(0px 1px 2px rgba(0, 0, 0, 0.3));\n",
              "      fill: #FFFFFF;\n",
              "    }\n",
              "  </style>\n",
              "\n",
              "    <script>\n",
              "      const buttonEl =\n",
              "        document.querySelector('#df-b8b585ba-b4d4-43ac-8eb9-9396610061d6 button.colab-df-convert');\n",
              "      buttonEl.style.display =\n",
              "        google.colab.kernel.accessAllowed ? 'block' : 'none';\n",
              "\n",
              "      async function convertToInteractive(key) {\n",
              "        const element = document.querySelector('#df-b8b585ba-b4d4-43ac-8eb9-9396610061d6');\n",
              "        const dataTable =\n",
              "          await google.colab.kernel.invokeFunction('convertToInteractive',\n",
              "                                                    [key], {});\n",
              "        if (!dataTable) return;\n",
              "\n",
              "        const docLinkHtml = 'Like what you see? Visit the ' +\n",
              "          '<a target=\"_blank\" href=https://colab.research.google.com/notebooks/data_table.ipynb>data table notebook</a>'\n",
              "          + ' to learn more about interactive tables.';\n",
              "        element.innerHTML = '';\n",
              "        dataTable['output_type'] = 'display_data';\n",
              "        await google.colab.output.renderOutput(dataTable, element);\n",
              "        const docLink = document.createElement('div');\n",
              "        docLink.innerHTML = docLinkHtml;\n",
              "        element.appendChild(docLink);\n",
              "      }\n",
              "    </script>\n",
              "  </div>\n",
              "\n",
              "\n",
              "<div id=\"df-1b2c7bd0-df60-464b-8811-0cc2a97c0508\">\n",
              "  <button class=\"colab-df-quickchart\" onclick=\"quickchart('df-1b2c7bd0-df60-464b-8811-0cc2a97c0508')\"\n",
              "            title=\"Suggest charts\"\n",
              "            style=\"display:none;\">\n",
              "\n",
              "<svg xmlns=\"http://www.w3.org/2000/svg\" height=\"24px\"viewBox=\"0 0 24 24\"\n",
              "     width=\"24px\">\n",
              "    <g>\n",
              "        <path d=\"M19 3H5c-1.1 0-2 .9-2 2v14c0 1.1.9 2 2 2h14c1.1 0 2-.9 2-2V5c0-1.1-.9-2-2-2zM9 17H7v-7h2v7zm4 0h-2V7h2v10zm4 0h-2v-4h2v4z\"/>\n",
              "    </g>\n",
              "</svg>\n",
              "  </button>\n",
              "\n",
              "<style>\n",
              "  .colab-df-quickchart {\n",
              "      --bg-color: #E8F0FE;\n",
              "      --fill-color: #1967D2;\n",
              "      --hover-bg-color: #E2EBFA;\n",
              "      --hover-fill-color: #174EA6;\n",
              "      --disabled-fill-color: #AAA;\n",
              "      --disabled-bg-color: #DDD;\n",
              "  }\n",
              "\n",
              "  [theme=dark] .colab-df-quickchart {\n",
              "      --bg-color: #3B4455;\n",
              "      --fill-color: #D2E3FC;\n",
              "      --hover-bg-color: #434B5C;\n",
              "      --hover-fill-color: #FFFFFF;\n",
              "      --disabled-bg-color: #3B4455;\n",
              "      --disabled-fill-color: #666;\n",
              "  }\n",
              "\n",
              "  .colab-df-quickchart {\n",
              "    background-color: var(--bg-color);\n",
              "    border: none;\n",
              "    border-radius: 50%;\n",
              "    cursor: pointer;\n",
              "    display: none;\n",
              "    fill: var(--fill-color);\n",
              "    height: 32px;\n",
              "    padding: 0;\n",
              "    width: 32px;\n",
              "  }\n",
              "\n",
              "  .colab-df-quickchart:hover {\n",
              "    background-color: var(--hover-bg-color);\n",
              "    box-shadow: 0 1px 2px rgba(60, 64, 67, 0.3), 0 1px 3px 1px rgba(60, 64, 67, 0.15);\n",
              "    fill: var(--button-hover-fill-color);\n",
              "  }\n",
              "\n",
              "  .colab-df-quickchart-complete:disabled,\n",
              "  .colab-df-quickchart-complete:disabled:hover {\n",
              "    background-color: var(--disabled-bg-color);\n",
              "    fill: var(--disabled-fill-color);\n",
              "    box-shadow: none;\n",
              "  }\n",
              "\n",
              "  .colab-df-spinner {\n",
              "    border: 2px solid var(--fill-color);\n",
              "    border-color: transparent;\n",
              "    border-bottom-color: var(--fill-color);\n",
              "    animation:\n",
              "      spin 1s steps(1) infinite;\n",
              "  }\n",
              "\n",
              "  @keyframes spin {\n",
              "    0% {\n",
              "      border-color: transparent;\n",
              "      border-bottom-color: var(--fill-color);\n",
              "      border-left-color: var(--fill-color);\n",
              "    }\n",
              "    20% {\n",
              "      border-color: transparent;\n",
              "      border-left-color: var(--fill-color);\n",
              "      border-top-color: var(--fill-color);\n",
              "    }\n",
              "    30% {\n",
              "      border-color: transparent;\n",
              "      border-left-color: var(--fill-color);\n",
              "      border-top-color: var(--fill-color);\n",
              "      border-right-color: var(--fill-color);\n",
              "    }\n",
              "    40% {\n",
              "      border-color: transparent;\n",
              "      border-right-color: var(--fill-color);\n",
              "      border-top-color: var(--fill-color);\n",
              "    }\n",
              "    60% {\n",
              "      border-color: transparent;\n",
              "      border-right-color: var(--fill-color);\n",
              "    }\n",
              "    80% {\n",
              "      border-color: transparent;\n",
              "      border-right-color: var(--fill-color);\n",
              "      border-bottom-color: var(--fill-color);\n",
              "    }\n",
              "    90% {\n",
              "      border-color: transparent;\n",
              "      border-bottom-color: var(--fill-color);\n",
              "    }\n",
              "  }\n",
              "</style>\n",
              "\n",
              "  <script>\n",
              "    async function quickchart(key) {\n",
              "      const quickchartButtonEl =\n",
              "        document.querySelector('#' + key + ' button');\n",
              "      quickchartButtonEl.disabled = true;  // To prevent multiple clicks.\n",
              "      quickchartButtonEl.classList.add('colab-df-spinner');\n",
              "      try {\n",
              "        const charts = await google.colab.kernel.invokeFunction(\n",
              "            'suggestCharts', [key], {});\n",
              "      } catch (error) {\n",
              "        console.error('Error during call to suggestCharts:', error);\n",
              "      }\n",
              "      quickchartButtonEl.classList.remove('colab-df-spinner');\n",
              "      quickchartButtonEl.classList.add('colab-df-quickchart-complete');\n",
              "    }\n",
              "    (() => {\n",
              "      let quickchartButtonEl =\n",
              "        document.querySelector('#df-1b2c7bd0-df60-464b-8811-0cc2a97c0508 button');\n",
              "      quickchartButtonEl.style.display =\n",
              "        google.colab.kernel.accessAllowed ? 'block' : 'none';\n",
              "    })();\n",
              "  </script>\n",
              "</div>\n",
              "    </div>\n",
              "  </div>\n"
            ],
            "application/vnd.google.colaboratory.intrinsic+json": {
              "type": "dataframe",
              "summary": "{\n  \"name\": \"df_clean[['high_sales', 'review_score', 'main_story_length', 'extras_length', 'completionists_length']]\",\n  \"rows\": 5,\n  \"fields\": [\n    {\n      \"column\": \"high_sales\",\n      \"properties\": {\n        \"dtype\": \"number\",\n        \"std\": 0.3378111729348074,\n        \"min\": 0.20353261157448543,\n        \"max\": 1.0,\n        \"num_unique_values\": 5,\n        \"samples\": [\n          0.3108949939511315,\n          0.2618783083081209,\n          0.22436143710369671\n        ],\n        \"semantic_type\": \"\",\n        \"description\": \"\"\n      }\n    },\n    {\n      \"column\": \"review_score\",\n      \"properties\": {\n        \"dtype\": \"number\",\n        \"std\": 0.3473247877063353,\n        \"min\": 0.17077585023456315,\n        \"max\": 1.0,\n        \"num_unique_values\": 5,\n        \"samples\": [\n          1.0,\n          0.17077585023456315,\n          0.2532291613400263\n        ],\n        \"semantic_type\": \"\",\n        \"description\": \"\"\n      }\n    },\n    {\n      \"column\": \"main_story_length\",\n      \"properties\": {\n        \"dtype\": \"number\",\n        \"std\": 0.3221707441014468,\n        \"min\": 0.22436143710369671,\n        \"max\": 1.0,\n        \"num_unique_values\": 5,\n        \"samples\": [\n          0.2532291613400263,\n          0.6872754203906323,\n          1.0\n        ],\n        \"semantic_type\": \"\",\n        \"description\": \"\"\n      }\n    },\n    {\n      \"column\": \"extras_length\",\n      \"properties\": {\n        \"dtype\": \"number\",\n        \"std\": 0.3285907889399909,\n        \"min\": 0.19638968091135914,\n        \"max\": 1.0,\n        \"num_unique_values\": 5,\n        \"samples\": [\n          0.19638968091135914,\n          0.4669533972842501,\n          0.546983567448635\n        ],\n        \"semantic_type\": \"\",\n        \"description\": \"\"\n      }\n    },\n    {\n      \"column\": \"completionists_length\",\n      \"properties\": {\n        \"dtype\": \"number\",\n        \"std\": 0.33531511730208097,\n        \"min\": 0.17077585023456315,\n        \"max\": 1.0,\n        \"num_unique_values\": 5,\n        \"samples\": [\n          0.17077585023456315,\n          1.0,\n          0.6872754203906323\n        ],\n        \"semantic_type\": \"\",\n        \"description\": \"\"\n      }\n    }\n  ]\n}"
            }
          },
          "metadata": {},
          "execution_count": 19
        }
      ],
      "source": [
        "df_clean[['high_sales', 'review_score', 'main_story_length', 'extras_length', 'completionists_length']].corr()"
      ]
    },
    {
      "cell_type": "markdown",
      "metadata": {
        "id": "bFSdMSl5QgFc"
      },
      "source": [
        "We visualized the relationship between all of the numerical explanatory variables within the dataset. None of our numerical explanatory variables have correlation coefficients >0.7 with each other, however, there appears to be a few pairs of explanatory variable pairs with minor associations such as `extras_length` and `main_story_length`(0.55) as well as `main_story_length` and `completionist_length` (0.69). None of our numerical explanatory variables appear to have a strong correlation with our response variable, and only one variable, `review_score`, has a correlation coefficient above 0.3 with the response variable (0.31)."
      ]
    },
    {
      "cell_type": "code",
      "execution_count": null,
      "metadata": {
        "colab": {
          "base_uri": "https://localhost:8080/",
          "height": 471
        },
        "id": "W1PTxUWgdi81",
        "outputId": "9df70b4d-9957-41d1-9a2c-3208b3d94707"
      },
      "outputs": [
        {
          "output_type": "execute_result",
          "data": {
            "text/plain": [
              "<Axes: xlabel='publisher', ylabel='review_score'>"
            ]
          },
          "metadata": {},
          "execution_count": 78
        },
        {
          "output_type": "display_data",
          "data": {
            "text/plain": [
              "<Figure size 640x480 with 1 Axes>"
            ],
            "image/png": "[encoded data removed]"
          },
          "metadata": {}
        }
      ],
      "source": [
        "sns.boxplot(x = 'publisher',\n",
        "            y = 'review_score',\n",
        "            hue = 'high_sales',\n",
        "            data = df_clean\n",
        "            )"
      ]
    },
    {
      "cell_type": "markdown",
      "metadata": {
        "id": "xCs5e-nvWuVg"
      },
      "source": [
        "For different values of `publisher`, the relationship between `review_score` and `high_sales` changes. This is evident due to how differences in the IQRs and median values of `review_score` and `high_sales` change for different values of `publisher`."
      ]
    },
    {
      "cell_type": "code",
      "execution_count": null,
      "metadata": {
        "colab": {
          "base_uri": "https://localhost:8080/",
          "height": 467
        },
        "id": "d2RxrHCNdi81",
        "outputId": "bca63d0c-3be6-4f70-998b-e9f07a40d6e5"
      },
      "outputs": [
        {
          "output_type": "execute_result",
          "data": {
            "text/plain": [
              "<Axes: xlabel='publisher', ylabel='main_story_length'>"
            ]
          },
          "metadata": {},
          "execution_count": 79
        },
        {
          "output_type": "display_data",
          "data": {
            "text/plain": [
              "<Figure size 640x480 with 1 Axes>"
            ],
            "image/png": "[encoded data removed]"
          },
          "metadata": {}
        }
      ],
      "source": [
        "sns.boxplot(x = 'publisher',\n",
        "            y = 'main_story_length',\n",
        "            hue = 'high_sales',\n",
        "            data = df_clean\n",
        "            )"
      ]
    },
    {
      "cell_type": "markdown",
      "metadata": {
        "id": "-8dB4NZpW60O"
      },
      "source": [
        "For different values of `publisher`, the relationship between `main_story_length` and `high_sales` changes. This is evident due to how differences in the IQRs and median values of `main_story_length` and `high_sales` change for different values of `publisher`."
      ]
    },
    {
      "cell_type": "code",
      "execution_count": null,
      "metadata": {
        "colab": {
          "base_uri": "https://localhost:8080/",
          "height": 467
        },
        "id": "dhdzmFbMdi81",
        "outputId": "70b33bf0-cb6e-4044-d1cb-76931ac808f9"
      },
      "outputs": [
        {
          "output_type": "execute_result",
          "data": {
            "text/plain": [
              "<Axes: xlabel='publisher', ylabel='extras_length'>"
            ]
          },
          "metadata": {},
          "execution_count": 81
        },
        {
          "output_type": "display_data",
          "data": {
            "text/plain": [
              "<Figure size 640x480 with 1 Axes>"
            ],
            "image/png": "[encoded data removed]"
          },
          "metadata": {}
        }
      ],
      "source": [
        "sns.boxplot(x = 'publisher',\n",
        "            y = 'extras_length',\n",
        "            hue = 'high_sales',\n",
        "            data = df_clean\n",
        "            )"
      ]
    },
    {
      "cell_type": "markdown",
      "metadata": {
        "id": "BVobZaGwXJln"
      },
      "source": [
        "For different values of `publisher`, the relationship between `extras_length` and `high_sales` changes. This is evident due to how differences in the IQRs and median values of `extras_length` and `high_sales` change slightly for different values of `publisher`."
      ]
    },
    {
      "cell_type": "code",
      "execution_count": null,
      "metadata": {
        "colab": {
          "base_uri": "https://localhost:8080/",
          "height": 467
        },
        "id": "VXhYv9x1di81",
        "outputId": "d2085e74-220b-44c3-a156-90aa610ff0cc"
      },
      "outputs": [
        {
          "output_type": "execute_result",
          "data": {
            "text/plain": [
              "<Axes: xlabel='publisher', ylabel='completionists_length'>"
            ]
          },
          "metadata": {},
          "execution_count": 80
        },
        {
          "output_type": "display_data",
          "data": {
            "text/plain": [
              "<Figure size 640x480 with 1 Axes>"
            ],
            "image/png": "[encoded data removed]"
          },
          "metadata": {}
        }
      ],
      "source": [
        "sns.boxplot(x = 'publisher',\n",
        "            y = 'completionists_length',\n",
        "            hue = 'high_sales',\n",
        "            data = df_clean\n",
        "            )"
      ]
    },
    {
      "cell_type": "markdown",
      "source": [
        "For different values of `publisher`, the relationship between `completionists_length` and `high_sales` changes. This is evident due to how differences in the IQRs and median values of `completionists_length` and `high_sales` change slightly for different values of `publisher`."
      ],
      "metadata": {
        "id": "gIHOfGTUUtSq"
      }
    },
    {
      "cell_type": "markdown",
      "metadata": {
        "id": "reRZxONYdi83"
      },
      "source": [
        "## 5. Model Data Preprocessing"
      ]
    },
    {
      "cell_type": "markdown",
      "metadata": {
        "id": "Teqq8dFddi83"
      },
      "source": [
        "Our dataframe already classifies high_sales true or false as 1 and 0 so there is no need to create a seperate 0/1 response variable."
      ]
    },
    {
      "cell_type": "code",
      "execution_count": null,
      "metadata": {
        "colab": {
          "base_uri": "https://localhost:8080/",
          "height": 206
        },
        "id": "rKsEti2F00nU",
        "outputId": "62f3e224-2a4e-4679-e096-b68bf8f28a2d"
      },
      "outputs": [
        {
          "output_type": "execute_result",
          "data": {
            "text/plain": [
              "    publisher  review_score  main_story_length  extras_length  \\\n",
              "0    Nintendo            85          14.333333      24.916667   \n",
              "1     Ubisoft            89          10.333333       9.750000   \n",
              "2    Nintendo            81           1.916667       3.850000   \n",
              "4  Activision            61           8.350000      12.766667   \n",
              "5          EA            67          15.500000      20.833333   \n",
              "\n",
              "   completionists_length  \n",
              "0              29.766667  \n",
              "1               0.000000  \n",
              "2              10.000000  \n",
              "4              72.566667  \n",
              "5              30.033333  "
            ],
            "text/html": [
              "\n",
              "  <div id=\"df-002a26d7-e069-4fb1-be4c-59192a6fdf99\" class=\"colab-df-container\">\n",
              "    <div>\n",
              "<style scoped>\n",
              "    .dataframe tbody tr th:only-of-type {\n",
              "        vertical-align: middle;\n",
              "    }\n",
              "\n",
              "    .dataframe tbody tr th {\n",
              "        vertical-align: top;\n",
              "    }\n",
              "\n",
              "    .dataframe thead th {\n",
              "        text-align: right;\n",
              "    }\n",
              "</style>\n",
              "<table border=\"1\" class=\"dataframe\">\n",
              "  <thead>\n",
              "    <tr style=\"text-align: right;\">\n",
              "      <th></th>\n",
              "      <th>publisher</th>\n",
              "      <th>review_score</th>\n",
              "      <th>main_story_length</th>\n",
              "      <th>extras_length</th>\n",
              "      <th>completionists_length</th>\n",
              "    </tr>\n",
              "  </thead>\n",
              "  <tbody>\n",
              "    <tr>\n",
              "      <th>0</th>\n",
              "      <td>Nintendo</td>\n",
              "      <td>85</td>\n",
              "      <td>14.333333</td>\n",
              "      <td>24.916667</td>\n",
              "      <td>29.766667</td>\n",
              "    </tr>\n",
              "    <tr>\n",
              "      <th>1</th>\n",
              "      <td>Ubisoft</td>\n",
              "      <td>89</td>\n",
              "      <td>10.333333</td>\n",
              "      <td>9.750000</td>\n",
              "      <td>0.000000</td>\n",
              "    </tr>\n",
              "    <tr>\n",
              "      <th>2</th>\n",
              "      <td>Nintendo</td>\n",
              "      <td>81</td>\n",
              "      <td>1.916667</td>\n",
              "      <td>3.850000</td>\n",
              "      <td>10.000000</td>\n",
              "    </tr>\n",
              "    <tr>\n",
              "      <th>4</th>\n",
              "      <td>Activision</td>\n",
              "      <td>61</td>\n",
              "      <td>8.350000</td>\n",
              "      <td>12.766667</td>\n",
              "      <td>72.566667</td>\n",
              "    </tr>\n",
              "    <tr>\n",
              "      <th>5</th>\n",
              "      <td>EA</td>\n",
              "      <td>67</td>\n",
              "      <td>15.500000</td>\n",
              "      <td>20.833333</td>\n",
              "      <td>30.033333</td>\n",
              "    </tr>\n",
              "  </tbody>\n",
              "</table>\n",
              "</div>\n",
              "    <div class=\"colab-df-buttons\">\n",
              "\n",
              "  <div class=\"colab-df-container\">\n",
              "    <button class=\"colab-df-convert\" onclick=\"convertToInteractive('df-002a26d7-e069-4fb1-be4c-59192a6fdf99')\"\n",
              "            title=\"Convert this dataframe to an interactive table.\"\n",
              "            style=\"display:none;\">\n",
              "\n",
              "  <svg xmlns=\"http://www.w3.org/2000/svg\" height=\"24px\" viewBox=\"0 -960 960 960\">\n",
              "    <path d=\"M120-120v-720h720v720H120Zm60-500h600v-160H180v160Zm220 220h160v-160H400v160Zm0 220h160v-160H400v160ZM180-400h160v-160H180v160Zm440 0h160v-160H620v160ZM180-180h160v-160H180v160Zm440 0h160v-160H620v160Z\"/>\n",
              "  </svg>\n",
              "    </button>\n",
              "\n",
              "  <style>\n",
              "    .colab-df-container {\n",
              "      display:flex;\n",
              "      gap: 12px;\n",
              "    }\n",
              "\n",
              "    .colab-df-convert {\n",
              "      background-color: #E8F0FE;\n",
              "      border: none;\n",
              "      border-radius: 50%;\n",
              "      cursor: pointer;\n",
              "      display: none;\n",
              "      fill: #1967D2;\n",
              "      height: 32px;\n",
              "      padding: 0 0 0 0;\n",
              "      width: 32px;\n",
              "    }\n",
              "\n",
              "    .colab-df-convert:hover {\n",
              "      background-color: #E2EBFA;\n",
              "      box-shadow: 0px 1px 2px rgba(60, 64, 67, 0.3), 0px 1px 3px 1px rgba(60, 64, 67, 0.15);\n",
              "      fill: #174EA6;\n",
              "    }\n",
              "\n",
              "    .colab-df-buttons div {\n",
              "      margin-bottom: 4px;\n",
              "    }\n",
              "\n",
              "    [theme=dark] .colab-df-convert {\n",
              "      background-color: #3B4455;\n",
              "      fill: #D2E3FC;\n",
              "    }\n",
              "\n",
              "    [theme=dark] .colab-df-convert:hover {\n",
              "      background-color: #434B5C;\n",
              "      box-shadow: 0px 1px 3px 1px rgba(0, 0, 0, 0.15);\n",
              "      filter: drop-shadow(0px 1px 2px rgba(0, 0, 0, 0.3));\n",
              "      fill: #FFFFFF;\n",
              "    }\n",
              "  </style>\n",
              "\n",
              "    <script>\n",
              "      const buttonEl =\n",
              "        document.querySelector('#df-002a26d7-e069-4fb1-be4c-59192a6fdf99 button.colab-df-convert');\n",
              "      buttonEl.style.display =\n",
              "        google.colab.kernel.accessAllowed ? 'block' : 'none';\n",
              "\n",
              "      async function convertToInteractive(key) {\n",
              "        const element = document.querySelector('#df-002a26d7-e069-4fb1-be4c-59192a6fdf99');\n",
              "        const dataTable =\n",
              "          await google.colab.kernel.invokeFunction('convertToInteractive',\n",
              "                                                    [key], {});\n",
              "        if (!dataTable) return;\n",
              "\n",
              "        const docLinkHtml = 'Like what you see? Visit the ' +\n",
              "          '<a target=\"_blank\" href=https://colab.research.google.com/notebooks/data_table.ipynb>data table notebook</a>'\n",
              "          + ' to learn more about interactive tables.';\n",
              "        element.innerHTML = '';\n",
              "        dataTable['output_type'] = 'display_data';\n",
              "        await google.colab.output.renderOutput(dataTable, element);\n",
              "        const docLink = document.createElement('div');\n",
              "        docLink.innerHTML = docLinkHtml;\n",
              "        element.appendChild(docLink);\n",
              "      }\n",
              "    </script>\n",
              "  </div>\n",
              "\n",
              "\n",
              "<div id=\"df-8a1cf7cf-c254-4c1d-88e9-5f918ec449be\">\n",
              "  <button class=\"colab-df-quickchart\" onclick=\"quickchart('df-8a1cf7cf-c254-4c1d-88e9-5f918ec449be')\"\n",
              "            title=\"Suggest charts\"\n",
              "            style=\"display:none;\">\n",
              "\n",
              "<svg xmlns=\"http://www.w3.org/2000/svg\" height=\"24px\"viewBox=\"0 0 24 24\"\n",
              "     width=\"24px\">\n",
              "    <g>\n",
              "        <path d=\"M19 3H5c-1.1 0-2 .9-2 2v14c0 1.1.9 2 2 2h14c1.1 0 2-.9 2-2V5c0-1.1-.9-2-2-2zM9 17H7v-7h2v7zm4 0h-2V7h2v10zm4 0h-2v-4h2v4z\"/>\n",
              "    </g>\n",
              "</svg>\n",
              "  </button>\n",
              "\n",
              "<style>\n",
              "  .colab-df-quickchart {\n",
              "      --bg-color: #E8F0FE;\n",
              "      --fill-color: #1967D2;\n",
              "      --hover-bg-color: #E2EBFA;\n",
              "      --hover-fill-color: #174EA6;\n",
              "      --disabled-fill-color: #AAA;\n",
              "      --disabled-bg-color: #DDD;\n",
              "  }\n",
              "\n",
              "  [theme=dark] .colab-df-quickchart {\n",
              "      --bg-color: #3B4455;\n",
              "      --fill-color: #D2E3FC;\n",
              "      --hover-bg-color: #434B5C;\n",
              "      --hover-fill-color: #FFFFFF;\n",
              "      --disabled-bg-color: #3B4455;\n",
              "      --disabled-fill-color: #666;\n",
              "  }\n",
              "\n",
              "  .colab-df-quickchart {\n",
              "    background-color: var(--bg-color);\n",
              "    border: none;\n",
              "    border-radius: 50%;\n",
              "    cursor: pointer;\n",
              "    display: none;\n",
              "    fill: var(--fill-color);\n",
              "    height: 32px;\n",
              "    padding: 0;\n",
              "    width: 32px;\n",
              "  }\n",
              "\n",
              "  .colab-df-quickchart:hover {\n",
              "    background-color: var(--hover-bg-color);\n",
              "    box-shadow: 0 1px 2px rgba(60, 64, 67, 0.3), 0 1px 3px 1px rgba(60, 64, 67, 0.15);\n",
              "    fill: var(--button-hover-fill-color);\n",
              "  }\n",
              "\n",
              "  .colab-df-quickchart-complete:disabled,\n",
              "  .colab-df-quickchart-complete:disabled:hover {\n",
              "    background-color: var(--disabled-bg-color);\n",
              "    fill: var(--disabled-fill-color);\n",
              "    box-shadow: none;\n",
              "  }\n",
              "\n",
              "  .colab-df-spinner {\n",
              "    border: 2px solid var(--fill-color);\n",
              "    border-color: transparent;\n",
              "    border-bottom-color: var(--fill-color);\n",
              "    animation:\n",
              "      spin 1s steps(1) infinite;\n",
              "  }\n",
              "\n",
              "  @keyframes spin {\n",
              "    0% {\n",
              "      border-color: transparent;\n",
              "      border-bottom-color: var(--fill-color);\n",
              "      border-left-color: var(--fill-color);\n",
              "    }\n",
              "    20% {\n",
              "      border-color: transparent;\n",
              "      border-left-color: var(--fill-color);\n",
              "      border-top-color: var(--fill-color);\n",
              "    }\n",
              "    30% {\n",
              "      border-color: transparent;\n",
              "      border-left-color: var(--fill-color);\n",
              "      border-top-color: var(--fill-color);\n",
              "      border-right-color: var(--fill-color);\n",
              "    }\n",
              "    40% {\n",
              "      border-color: transparent;\n",
              "      border-right-color: var(--fill-color);\n",
              "      border-top-color: var(--fill-color);\n",
              "    }\n",
              "    60% {\n",
              "      border-color: transparent;\n",
              "      border-right-color: var(--fill-color);\n",
              "    }\n",
              "    80% {\n",
              "      border-color: transparent;\n",
              "      border-right-color: var(--fill-color);\n",
              "      border-bottom-color: var(--fill-color);\n",
              "    }\n",
              "    90% {\n",
              "      border-color: transparent;\n",
              "      border-bottom-color: var(--fill-color);\n",
              "    }\n",
              "  }\n",
              "</style>\n",
              "\n",
              "  <script>\n",
              "    async function quickchart(key) {\n",
              "      const quickchartButtonEl =\n",
              "        document.querySelector('#' + key + ' button');\n",
              "      quickchartButtonEl.disabled = true;  // To prevent multiple clicks.\n",
              "      quickchartButtonEl.classList.add('colab-df-spinner');\n",
              "      try {\n",
              "        const charts = await google.colab.kernel.invokeFunction(\n",
              "            'suggestCharts', [key], {});\n",
              "      } catch (error) {\n",
              "        console.error('Error during call to suggestCharts:', error);\n",
              "      }\n",
              "      quickchartButtonEl.classList.remove('colab-df-spinner');\n",
              "      quickchartButtonEl.classList.add('colab-df-quickchart-complete');\n",
              "    }\n",
              "    (() => {\n",
              "      let quickchartButtonEl =\n",
              "        document.querySelector('#df-8a1cf7cf-c254-4c1d-88e9-5f918ec449be button');\n",
              "      quickchartButtonEl.style.display =\n",
              "        google.colab.kernel.accessAllowed ? 'block' : 'none';\n",
              "    })();\n",
              "  </script>\n",
              "</div>\n",
              "    </div>\n",
              "  </div>\n"
            ],
            "application/vnd.google.colaboratory.intrinsic+json": {
              "type": "dataframe",
              "variable_name": "features_matrix",
              "summary": "{\n  \"name\": \"features_matrix\",\n  \"rows\": 504,\n  \"fields\": [\n    {\n      \"column\": \"publisher\",\n      \"properties\": {\n        \"dtype\": \"category\",\n        \"num_unique_values\": 5,\n        \"samples\": [\n          \"Ubisoft\",\n          \"Sega\",\n          \"Activision\"\n        ],\n        \"semantic_type\": \"\",\n        \"description\": \"\"\n      }\n    },\n    {\n      \"column\": \"review_score\",\n      \"properties\": {\n        \"dtype\": \"number\",\n        \"std\": 12,\n        \"min\": 28,\n        \"max\": 97,\n        \"num_unique_values\": 63,\n        \"samples\": [\n          44,\n          39,\n          85\n        ],\n        \"semantic_type\": \"\",\n        \"description\": \"\"\n      }\n    },\n    {\n      \"column\": \"main_story_length\",\n      \"properties\": {\n        \"dtype\": \"number\",\n        \"std\": 8.69415585648291,\n        \"min\": 0.0,\n        \"max\": 72.38333333333334,\n        \"num_unique_values\": 206,\n        \"samples\": [\n          72.38333333333334,\n          15.0,\n          13.033333333333331\n        ],\n        \"semantic_type\": \"\",\n        \"description\": \"\"\n      }\n    },\n    {\n      \"column\": \"extras_length\",\n      \"properties\": {\n        \"dtype\": \"number\",\n        \"std\": 30.38071648367097,\n        \"min\": 0.0,\n        \"max\": 291.0,\n        \"num_unique_values\": 171,\n        \"samples\": [\n          96.9,\n          16.816666666666666,\n          27.7\n        ],\n        \"semantic_type\": \"\",\n        \"description\": \"\"\n      }\n    },\n    {\n      \"column\": \"completionists_length\",\n      \"properties\": {\n        \"dtype\": \"number\",\n        \"std\": 48.42184197426044,\n        \"min\": 0.0,\n        \"max\": 617.4166666666666,\n        \"num_unique_values\": 156,\n        \"samples\": [\n          7.716666666666667,\n          13.55,\n          30.0\n        ],\n        \"semantic_type\": \"\",\n        \"description\": \"\"\n      }\n    }\n  ]\n}"
            }
          },
          "metadata": {},
          "execution_count": 26
        }
      ],
      "source": [
        "features_matrix = df_clean.drop(['high_sales'], axis = 1)\n",
        "features_matrix.head()"
      ]
    },
    {
      "cell_type": "code",
      "execution_count": null,
      "metadata": {
        "colab": {
          "base_uri": "https://localhost:8080/"
        },
        "id": "KBimdkWS7sl7",
        "outputId": "967f79d9-5aef-425f-c836-84c2ecaf7788"
      },
      "outputs": [
        {
          "output_type": "execute_result",
          "data": {
            "text/plain": [
              "0    1\n",
              "1    0\n",
              "2    0\n",
              "4    0\n",
              "5    0\n",
              "Name: high_sales, dtype: int64"
            ]
          },
          "metadata": {},
          "execution_count": 27
        }
      ],
      "source": [
        "target_array = df_clean['high_sales']\n",
        "target_array.head()"
      ]
    },
    {
      "cell_type": "markdown",
      "metadata": {
        "id": "YkND5N7xyBty"
      },
      "source": [
        "We created features matrices and target arrays."
      ]
    },
    {
      "cell_type": "code",
      "execution_count": null,
      "metadata": {
        "id": "cxRH1cXp2UX8"
      },
      "outputs": [],
      "source": [
        "indicator_variables = pd.get_dummies(features_matrix[['publisher']], drop_first=True, dtype=int)"
      ]
    },
    {
      "cell_type": "code",
      "execution_count": null,
      "metadata": {
        "id": "FKGqGmbM4SiL"
      },
      "outputs": [],
      "source": [
        "features_matrix = pd.concat([features_matrix, indicator_variables], axis=1).drop(columns = 'publisher')"
      ]
    },
    {
      "cell_type": "code",
      "execution_count": null,
      "metadata": {
        "colab": {
          "base_uri": "https://localhost:8080/",
          "height": 424
        },
        "id": "6p18_GRT-AiY",
        "outputId": "4e283968-8665-4bcf-a96d-6afb6093d741"
      },
      "outputs": [
        {
          "output_type": "execute_result",
          "data": {
            "text/plain": [
              "      review_score  main_story_length  extras_length  completionists_length  \\\n",
              "0               85          14.333333      24.916667              29.766667   \n",
              "1               89          10.333333       9.750000               0.000000   \n",
              "2               81           1.916667       3.850000              10.000000   \n",
              "4               61           8.350000      12.766667              72.566667   \n",
              "5               67          15.500000      20.833333              30.033333   \n",
              "...            ...                ...            ...                    ...   \n",
              "1180            75           0.000000      15.000000               0.000000   \n",
              "1185            62          10.250000      17.266667             272.500000   \n",
              "1189            64          10.250000      17.266667             272.500000   \n",
              "1199            68           0.000000       0.000000               0.000000   \n",
              "1204            58           5.183333       4.516667               5.050000   \n",
              "\n",
              "      publisher_EA  publisher_Nintendo  publisher_Sega  publisher_Ubisoft  \n",
              "0                0                   1               0                  0  \n",
              "1                0                   0               0                  1  \n",
              "2                0                   1               0                  0  \n",
              "4                0                   0               0                  0  \n",
              "5                1                   0               0                  0  \n",
              "...            ...                 ...             ...                ...  \n",
              "1180             1                   0               0                  0  \n",
              "1185             0                   0               0                  1  \n",
              "1189             0                   0               0                  1  \n",
              "1199             1                   0               0                  0  \n",
              "1204             0                   0               0                  1  \n",
              "\n",
              "[504 rows x 8 columns]"
            ],
            "text/html": [
              "\n",
              "  <div id=\"df-f420feee-4464-4595-bf03-2b7fef2bd222\" class=\"colab-df-container\">\n",
              "    <div>\n",
              "<style scoped>\n",
              "    .dataframe tbody tr th:only-of-type {\n",
              "        vertical-align: middle;\n",
              "    }\n",
              "\n",
              "    .dataframe tbody tr th {\n",
              "        vertical-align: top;\n",
              "    }\n",
              "\n",
              "    .dataframe thead th {\n",
              "        text-align: right;\n",
              "    }\n",
              "</style>\n",
              "<table border=\"1\" class=\"dataframe\">\n",
              "  <thead>\n",
              "    <tr style=\"text-align: right;\">\n",
              "      <th></th>\n",
              "      <th>review_score</th>\n",
              "      <th>main_story_length</th>\n",
              "      <th>extras_length</th>\n",
              "      <th>completionists_length</th>\n",
              "      <th>publisher_EA</th>\n",
              "      <th>publisher_Nintendo</th>\n",
              "      <th>publisher_Sega</th>\n",
              "      <th>publisher_Ubisoft</th>\n",
              "    </tr>\n",
              "  </thead>\n",
              "  <tbody>\n",
              "    <tr>\n",
              "      <th>0</th>\n",
              "      <td>85</td>\n",
              "      <td>14.333333</td>\n",
              "      <td>24.916667</td>\n",
              "      <td>29.766667</td>\n",
              "      <td>0</td>\n",
              "      <td>1</td>\n",
              "      <td>0</td>\n",
              "      <td>0</td>\n",
              "    </tr>\n",
              "    <tr>\n",
              "      <th>1</th>\n",
              "      <td>89</td>\n",
              "      <td>10.333333</td>\n",
              "      <td>9.750000</td>\n",
              "      <td>0.000000</td>\n",
              "      <td>0</td>\n",
              "      <td>0</td>\n",
              "      <td>0</td>\n",
              "      <td>1</td>\n",
              "    </tr>\n",
              "    <tr>\n",
              "      <th>2</th>\n",
              "      <td>81</td>\n",
              "      <td>1.916667</td>\n",
              "      <td>3.850000</td>\n",
              "      <td>10.000000</td>\n",
              "      <td>0</td>\n",
              "      <td>1</td>\n",
              "      <td>0</td>\n",
              "      <td>0</td>\n",
              "    </tr>\n",
              "    <tr>\n",
              "      <th>4</th>\n",
              "      <td>61</td>\n",
              "      <td>8.350000</td>\n",
              "      <td>12.766667</td>\n",
              "      <td>72.566667</td>\n",
              "      <td>0</td>\n",
              "      <td>0</td>\n",
              "      <td>0</td>\n",
              "      <td>0</td>\n",
              "    </tr>\n",
              "    <tr>\n",
              "      <th>5</th>\n",
              "      <td>67</td>\n",
              "      <td>15.500000</td>\n",
              "      <td>20.833333</td>\n",
              "      <td>30.033333</td>\n",
              "      <td>1</td>\n",
              "      <td>0</td>\n",
              "      <td>0</td>\n",
              "      <td>0</td>\n",
              "    </tr>\n",
              "    <tr>\n",
              "      <th>...</th>\n",
              "      <td>...</td>\n",
              "      <td>...</td>\n",
              "      <td>...</td>\n",
              "      <td>...</td>\n",
              "      <td>...</td>\n",
              "      <td>...</td>\n",
              "      <td>...</td>\n",
              "      <td>...</td>\n",
              "    </tr>\n",
              "    <tr>\n",
              "      <th>1180</th>\n",
              "      <td>75</td>\n",
              "      <td>0.000000</td>\n",
              "      <td>15.000000</td>\n",
              "      <td>0.000000</td>\n",
              "      <td>1</td>\n",
              "      <td>0</td>\n",
              "      <td>0</td>\n",
              "      <td>0</td>\n",
              "    </tr>\n",
              "    <tr>\n",
              "      <th>1185</th>\n",
              "      <td>62</td>\n",
              "      <td>10.250000</td>\n",
              "      <td>17.266667</td>\n",
              "      <td>272.500000</td>\n",
              "      <td>0</td>\n",
              "      <td>0</td>\n",
              "      <td>0</td>\n",
              "      <td>1</td>\n",
              "    </tr>\n",
              "    <tr>\n",
              "      <th>1189</th>\n",
              "      <td>64</td>\n",
              "      <td>10.250000</td>\n",
              "      <td>17.266667</td>\n",
              "      <td>272.500000</td>\n",
              "      <td>0</td>\n",
              "      <td>0</td>\n",
              "      <td>0</td>\n",
              "      <td>1</td>\n",
              "    </tr>\n",
              "    <tr>\n",
              "      <th>1199</th>\n",
              "      <td>68</td>\n",
              "      <td>0.000000</td>\n",
              "      <td>0.000000</td>\n",
              "      <td>0.000000</td>\n",
              "      <td>1</td>\n",
              "      <td>0</td>\n",
              "      <td>0</td>\n",
              "      <td>0</td>\n",
              "    </tr>\n",
              "    <tr>\n",
              "      <th>1204</th>\n",
              "      <td>58</td>\n",
              "      <td>5.183333</td>\n",
              "      <td>4.516667</td>\n",
              "      <td>5.050000</td>\n",
              "      <td>0</td>\n",
              "      <td>0</td>\n",
              "      <td>0</td>\n",
              "      <td>1</td>\n",
              "    </tr>\n",
              "  </tbody>\n",
              "</table>\n",
              "<p>504 rows × 8 columns</p>\n",
              "</div>\n",
              "    <div class=\"colab-df-buttons\">\n",
              "\n",
              "  <div class=\"colab-df-container\">\n",
              "    <button class=\"colab-df-convert\" onclick=\"convertToInteractive('df-f420feee-4464-4595-bf03-2b7fef2bd222')\"\n",
              "            title=\"Convert this dataframe to an interactive table.\"\n",
              "            style=\"display:none;\">\n",
              "\n",
              "  <svg xmlns=\"http://www.w3.org/2000/svg\" height=\"24px\" viewBox=\"0 -960 960 960\">\n",
              "    <path d=\"M120-120v-720h720v720H120Zm60-500h600v-160H180v160Zm220 220h160v-160H400v160Zm0 220h160v-160H400v160ZM180-400h160v-160H180v160Zm440 0h160v-160H620v160ZM180-180h160v-160H180v160Zm440 0h160v-160H620v160Z\"/>\n",
              "  </svg>\n",
              "    </button>\n",
              "\n",
              "  <style>\n",
              "    .colab-df-container {\n",
              "      display:flex;\n",
              "      gap: 12px;\n",
              "    }\n",
              "\n",
              "    .colab-df-convert {\n",
              "      background-color: #E8F0FE;\n",
              "      border: none;\n",
              "      border-radius: 50%;\n",
              "      cursor: pointer;\n",
              "      display: none;\n",
              "      fill: #1967D2;\n",
              "      height: 32px;\n",
              "      padding: 0 0 0 0;\n",
              "      width: 32px;\n",
              "    }\n",
              "\n",
              "    .colab-df-convert:hover {\n",
              "      background-color: #E2EBFA;\n",
              "      box-shadow: 0px 1px 2px rgba(60, 64, 67, 0.3), 0px 1px 3px 1px rgba(60, 64, 67, 0.15);\n",
              "      fill: #174EA6;\n",
              "    }\n",
              "\n",
              "    .colab-df-buttons div {\n",
              "      margin-bottom: 4px;\n",
              "    }\n",
              "\n",
              "    [theme=dark] .colab-df-convert {\n",
              "      background-color: #3B4455;\n",
              "      fill: #D2E3FC;\n",
              "    }\n",
              "\n",
              "    [theme=dark] .colab-df-convert:hover {\n",
              "      background-color: #434B5C;\n",
              "      box-shadow: 0px 1px 3px 1px rgba(0, 0, 0, 0.15);\n",
              "      filter: drop-shadow(0px 1px 2px rgba(0, 0, 0, 0.3));\n",
              "      fill: #FFFFFF;\n",
              "    }\n",
              "  </style>\n",
              "\n",
              "    <script>\n",
              "      const buttonEl =\n",
              "        document.querySelector('#df-f420feee-4464-4595-bf03-2b7fef2bd222 button.colab-df-convert');\n",
              "      buttonEl.style.display =\n",
              "        google.colab.kernel.accessAllowed ? 'block' : 'none';\n",
              "\n",
              "      async function convertToInteractive(key) {\n",
              "        const element = document.querySelector('#df-f420feee-4464-4595-bf03-2b7fef2bd222');\n",
              "        const dataTable =\n",
              "          await google.colab.kernel.invokeFunction('convertToInteractive',\n",
              "                                                    [key], {});\n",
              "        if (!dataTable) return;\n",
              "\n",
              "        const docLinkHtml = 'Like what you see? Visit the ' +\n",
              "          '<a target=\"_blank\" href=https://colab.research.google.com/notebooks/data_table.ipynb>data table notebook</a>'\n",
              "          + ' to learn more about interactive tables.';\n",
              "        element.innerHTML = '';\n",
              "        dataTable['output_type'] = 'display_data';\n",
              "        await google.colab.output.renderOutput(dataTable, element);\n",
              "        const docLink = document.createElement('div');\n",
              "        docLink.innerHTML = docLinkHtml;\n",
              "        element.appendChild(docLink);\n",
              "      }\n",
              "    </script>\n",
              "  </div>\n",
              "\n",
              "\n",
              "<div id=\"df-b70d6e88-2767-4e0e-b404-afcfed928bed\">\n",
              "  <button class=\"colab-df-quickchart\" onclick=\"quickchart('df-b70d6e88-2767-4e0e-b404-afcfed928bed')\"\n",
              "            title=\"Suggest charts\"\n",
              "            style=\"display:none;\">\n",
              "\n",
              "<svg xmlns=\"http://www.w3.org/2000/svg\" height=\"24px\"viewBox=\"0 0 24 24\"\n",
              "     width=\"24px\">\n",
              "    <g>\n",
              "        <path d=\"M19 3H5c-1.1 0-2 .9-2 2v14c0 1.1.9 2 2 2h14c1.1 0 2-.9 2-2V5c0-1.1-.9-2-2-2zM9 17H7v-7h2v7zm4 0h-2V7h2v10zm4 0h-2v-4h2v4z\"/>\n",
              "    </g>\n",
              "</svg>\n",
              "  </button>\n",
              "\n",
              "<style>\n",
              "  .colab-df-quickchart {\n",
              "      --bg-color: #E8F0FE;\n",
              "      --fill-color: #1967D2;\n",
              "      --hover-bg-color: #E2EBFA;\n",
              "      --hover-fill-color: #174EA6;\n",
              "      --disabled-fill-color: #AAA;\n",
              "      --disabled-bg-color: #DDD;\n",
              "  }\n",
              "\n",
              "  [theme=dark] .colab-df-quickchart {\n",
              "      --bg-color: #3B4455;\n",
              "      --fill-color: #D2E3FC;\n",
              "      --hover-bg-color: #434B5C;\n",
              "      --hover-fill-color: #FFFFFF;\n",
              "      --disabled-bg-color: #3B4455;\n",
              "      --disabled-fill-color: #666;\n",
              "  }\n",
              "\n",
              "  .colab-df-quickchart {\n",
              "    background-color: var(--bg-color);\n",
              "    border: none;\n",
              "    border-radius: 50%;\n",
              "    cursor: pointer;\n",
              "    display: none;\n",
              "    fill: var(--fill-color);\n",
              "    height: 32px;\n",
              "    padding: 0;\n",
              "    width: 32px;\n",
              "  }\n",
              "\n",
              "  .colab-df-quickchart:hover {\n",
              "    background-color: var(--hover-bg-color);\n",
              "    box-shadow: 0 1px 2px rgba(60, 64, 67, 0.3), 0 1px 3px 1px rgba(60, 64, 67, 0.15);\n",
              "    fill: var(--button-hover-fill-color);\n",
              "  }\n",
              "\n",
              "  .colab-df-quickchart-complete:disabled,\n",
              "  .colab-df-quickchart-complete:disabled:hover {\n",
              "    background-color: var(--disabled-bg-color);\n",
              "    fill: var(--disabled-fill-color);\n",
              "    box-shadow: none;\n",
              "  }\n",
              "\n",
              "  .colab-df-spinner {\n",
              "    border: 2px solid var(--fill-color);\n",
              "    border-color: transparent;\n",
              "    border-bottom-color: var(--fill-color);\n",
              "    animation:\n",
              "      spin 1s steps(1) infinite;\n",
              "  }\n",
              "\n",
              "  @keyframes spin {\n",
              "    0% {\n",
              "      border-color: transparent;\n",
              "      border-bottom-color: var(--fill-color);\n",
              "      border-left-color: var(--fill-color);\n",
              "    }\n",
              "    20% {\n",
              "      border-color: transparent;\n",
              "      border-left-color: var(--fill-color);\n",
              "      border-top-color: var(--fill-color);\n",
              "    }\n",
              "    30% {\n",
              "      border-color: transparent;\n",
              "      border-left-color: var(--fill-color);\n",
              "      border-top-color: var(--fill-color);\n",
              "      border-right-color: var(--fill-color);\n",
              "    }\n",
              "    40% {\n",
              "      border-color: transparent;\n",
              "      border-right-color: var(--fill-color);\n",
              "      border-top-color: var(--fill-color);\n",
              "    }\n",
              "    60% {\n",
              "      border-color: transparent;\n",
              "      border-right-color: var(--fill-color);\n",
              "    }\n",
              "    80% {\n",
              "      border-color: transparent;\n",
              "      border-right-color: var(--fill-color);\n",
              "      border-bottom-color: var(--fill-color);\n",
              "    }\n",
              "    90% {\n",
              "      border-color: transparent;\n",
              "      border-bottom-color: var(--fill-color);\n",
              "    }\n",
              "  }\n",
              "</style>\n",
              "\n",
              "  <script>\n",
              "    async function quickchart(key) {\n",
              "      const quickchartButtonEl =\n",
              "        document.querySelector('#' + key + ' button');\n",
              "      quickchartButtonEl.disabled = true;  // To prevent multiple clicks.\n",
              "      quickchartButtonEl.classList.add('colab-df-spinner');\n",
              "      try {\n",
              "        const charts = await google.colab.kernel.invokeFunction(\n",
              "            'suggestCharts', [key], {});\n",
              "      } catch (error) {\n",
              "        console.error('Error during call to suggestCharts:', error);\n",
              "      }\n",
              "      quickchartButtonEl.classList.remove('colab-df-spinner');\n",
              "      quickchartButtonEl.classList.add('colab-df-quickchart-complete');\n",
              "    }\n",
              "    (() => {\n",
              "      let quickchartButtonEl =\n",
              "        document.querySelector('#df-b70d6e88-2767-4e0e-b404-afcfed928bed button');\n",
              "      quickchartButtonEl.style.display =\n",
              "        google.colab.kernel.accessAllowed ? 'block' : 'none';\n",
              "    })();\n",
              "  </script>\n",
              "</div>\n",
              "    </div>\n",
              "  </div>\n"
            ],
            "application/vnd.google.colaboratory.intrinsic+json": {
              "type": "dataframe",
              "variable_name": "features_matrix",
              "summary": "{\n  \"name\": \"features_matrix\",\n  \"rows\": 504,\n  \"fields\": [\n    {\n      \"column\": \"review_score\",\n      \"properties\": {\n        \"dtype\": \"number\",\n        \"std\": 12,\n        \"min\": 28,\n        \"max\": 97,\n        \"num_unique_values\": 63,\n        \"samples\": [\n          44,\n          39,\n          85\n        ],\n        \"semantic_type\": \"\",\n        \"description\": \"\"\n      }\n    },\n    {\n      \"column\": \"main_story_length\",\n      \"properties\": {\n        \"dtype\": \"number\",\n        \"std\": 8.69415585648291,\n        \"min\": 0.0,\n        \"max\": 72.38333333333334,\n        \"num_unique_values\": 206,\n        \"samples\": [\n          72.38333333333334,\n          15.0,\n          13.033333333333331\n        ],\n        \"semantic_type\": \"\",\n        \"description\": \"\"\n      }\n    },\n    {\n      \"column\": \"extras_length\",\n      \"properties\": {\n        \"dtype\": \"number\",\n        \"std\": 30.38071648367097,\n        \"min\": 0.0,\n        \"max\": 291.0,\n        \"num_unique_values\": 171,\n        \"samples\": [\n          96.9,\n          16.816666666666666,\n          27.7\n        ],\n        \"semantic_type\": \"\",\n        \"description\": \"\"\n      }\n    },\n    {\n      \"column\": \"completionists_length\",\n      \"properties\": {\n        \"dtype\": \"number\",\n        \"std\": 48.42184197426044,\n        \"min\": 0.0,\n        \"max\": 617.4166666666666,\n        \"num_unique_values\": 156,\n        \"samples\": [\n          7.716666666666667,\n          13.55,\n          30.0\n        ],\n        \"semantic_type\": \"\",\n        \"description\": \"\"\n      }\n    },\n    {\n      \"column\": \"publisher_EA\",\n      \"properties\": {\n        \"dtype\": \"number\",\n        \"std\": 0,\n        \"min\": 0,\n        \"max\": 1,\n        \"num_unique_values\": 2,\n        \"samples\": [\n          1,\n          0\n        ],\n        \"semantic_type\": \"\",\n        \"description\": \"\"\n      }\n    },\n    {\n      \"column\": \"publisher_Nintendo\",\n      \"properties\": {\n        \"dtype\": \"number\",\n        \"std\": 0,\n        \"min\": 0,\n        \"max\": 1,\n        \"num_unique_values\": 2,\n        \"samples\": [\n          0,\n          1\n        ],\n        \"semantic_type\": \"\",\n        \"description\": \"\"\n      }\n    },\n    {\n      \"column\": \"publisher_Sega\",\n      \"properties\": {\n        \"dtype\": \"number\",\n        \"std\": 0,\n        \"min\": 0,\n        \"max\": 1,\n        \"num_unique_values\": 2,\n        \"samples\": [\n          1,\n          0\n        ],\n        \"semantic_type\": \"\",\n        \"description\": \"\"\n      }\n    },\n    {\n      \"column\": \"publisher_Ubisoft\",\n      \"properties\": {\n        \"dtype\": \"number\",\n        \"std\": 0,\n        \"min\": 0,\n        \"max\": 1,\n        \"num_unique_values\": 2,\n        \"samples\": [\n          1,\n          0\n        ],\n        \"semantic_type\": \"\",\n        \"description\": \"\"\n      }\n    }\n  ]\n}"
            }
          },
          "metadata": {},
          "execution_count": 30
        }
      ],
      "source": [
        "features_matrix"
      ]
    },
    {
      "cell_type": "markdown",
      "metadata": {
        "id": "XllzJhTH-e7d"
      },
      "source": [
        "Then, we create indicator variables for our one categorical explanatory variable."
      ]
    },
    {
      "cell_type": "code",
      "execution_count": null,
      "metadata": {
        "id": "1ndkCfM_7ZfR"
      },
      "outputs": [],
      "source": [
        "scaler_training = StandardScaler()"
      ]
    },
    {
      "cell_type": "code",
      "execution_count": null,
      "metadata": {
        "id": "u_5BDtzodi83"
      },
      "outputs": [],
      "source": [
        "scaled_expl_vars = scaler_training.fit_transform(features_matrix[['review_score', 'main_story_length', 'extras_length', 'completionists_length']])"
      ]
    },
    {
      "cell_type": "code",
      "execution_count": null,
      "metadata": {
        "id": "Qz3583m3-OLm"
      },
      "outputs": [],
      "source": [
        "features_matrix[['review_score', 'main_story_length', 'extras_length', 'completionists_length']] = scaled_expl_vars"
      ]
    },
    {
      "cell_type": "code",
      "execution_count": null,
      "metadata": {
        "colab": {
          "base_uri": "https://localhost:8080/",
          "height": 424
        },
        "id": "mQoUhQTz-Yw8",
        "outputId": "1a8ff770-9dc8-4f2d-fb57-0e4a73e10e56"
      },
      "outputs": [
        {
          "output_type": "execute_result",
          "data": {
            "text/plain": [
              "      review_score  main_story_length  extras_length  completionists_length  \\\n",
              "0         1.261228           0.761720       0.397438               0.232826   \n",
              "1         1.584102           0.301184      -0.102278              -0.382521   \n",
              "2         0.938354          -0.667861      -0.296673              -0.175798   \n",
              "4        -0.676018           0.072834      -0.002884               1.117603   \n",
              "5        -0.191707           0.896043       0.262899               0.238338   \n",
              "...            ...                ...            ...                    ...   \n",
              "1180      0.454042          -0.888535       0.070701              -0.382521   \n",
              "1185     -0.595300           0.291589       0.145383               5.250696   \n",
              "1189     -0.433862           0.291589       0.145383               5.250696   \n",
              "1199     -0.110988          -0.888535      -0.423524              -0.382521   \n",
              "1204     -0.918174          -0.291757      -0.274708              -0.278126   \n",
              "\n",
              "      publisher_EA  publisher_Nintendo  publisher_Sega  publisher_Ubisoft  \n",
              "0                0                   1               0                  0  \n",
              "1                0                   0               0                  1  \n",
              "2                0                   1               0                  0  \n",
              "4                0                   0               0                  0  \n",
              "5                1                   0               0                  0  \n",
              "...            ...                 ...             ...                ...  \n",
              "1180             1                   0               0                  0  \n",
              "1185             0                   0               0                  1  \n",
              "1189             0                   0               0                  1  \n",
              "1199             1                   0               0                  0  \n",
              "1204             0                   0               0                  1  \n",
              "\n",
              "[504 rows x 8 columns]"
            ],
            "text/html": [
              "\n",
              "  <div id=\"df-04829ae1-a4ee-4236-8fc4-9e804f6c781a\" class=\"colab-df-container\">\n",
              "    <div>\n",
              "<style scoped>\n",
              "    .dataframe tbody tr th:only-of-type {\n",
              "        vertical-align: middle;\n",
              "    }\n",
              "\n",
              "    .dataframe tbody tr th {\n",
              "        vertical-align: top;\n",
              "    }\n",
              "\n",
              "    .dataframe thead th {\n",
              "        text-align: right;\n",
              "    }\n",
              "</style>\n",
              "<table border=\"1\" class=\"dataframe\">\n",
              "  <thead>\n",
              "    <tr style=\"text-align: right;\">\n",
              "      <th></th>\n",
              "      <th>review_score</th>\n",
              "      <th>main_story_length</th>\n",
              "      <th>extras_length</th>\n",
              "      <th>completionists_length</th>\n",
              "      <th>publisher_EA</th>\n",
              "      <th>publisher_Nintendo</th>\n",
              "      <th>publisher_Sega</th>\n",
              "      <th>publisher_Ubisoft</th>\n",
              "    </tr>\n",
              "  </thead>\n",
              "  <tbody>\n",
              "    <tr>\n",
              "      <th>0</th>\n",
              "      <td>1.261228</td>\n",
              "      <td>0.761720</td>\n",
              "      <td>0.397438</td>\n",
              "      <td>0.232826</td>\n",
              "      <td>0</td>\n",
              "      <td>1</td>\n",
              "      <td>0</td>\n",
              "      <td>0</td>\n",
              "    </tr>\n",
              "    <tr>\n",
              "      <th>1</th>\n",
              "      <td>1.584102</td>\n",
              "      <td>0.301184</td>\n",
              "      <td>-0.102278</td>\n",
              "      <td>-0.382521</td>\n",
              "      <td>0</td>\n",
              "      <td>0</td>\n",
              "      <td>0</td>\n",
              "      <td>1</td>\n",
              "    </tr>\n",
              "    <tr>\n",
              "      <th>2</th>\n",
              "      <td>0.938354</td>\n",
              "      <td>-0.667861</td>\n",
              "      <td>-0.296673</td>\n",
              "      <td>-0.175798</td>\n",
              "      <td>0</td>\n",
              "      <td>1</td>\n",
              "      <td>0</td>\n",
              "      <td>0</td>\n",
              "    </tr>\n",
              "    <tr>\n",
              "      <th>4</th>\n",
              "      <td>-0.676018</td>\n",
              "      <td>0.072834</td>\n",
              "      <td>-0.002884</td>\n",
              "      <td>1.117603</td>\n",
              "      <td>0</td>\n",
              "      <td>0</td>\n",
              "      <td>0</td>\n",
              "      <td>0</td>\n",
              "    </tr>\n",
              "    <tr>\n",
              "      <th>5</th>\n",
              "      <td>-0.191707</td>\n",
              "      <td>0.896043</td>\n",
              "      <td>0.262899</td>\n",
              "      <td>0.238338</td>\n",
              "      <td>1</td>\n",
              "      <td>0</td>\n",
              "      <td>0</td>\n",
              "      <td>0</td>\n",
              "    </tr>\n",
              "    <tr>\n",
              "      <th>...</th>\n",
              "      <td>...</td>\n",
              "      <td>...</td>\n",
              "      <td>...</td>\n",
              "      <td>...</td>\n",
              "      <td>...</td>\n",
              "      <td>...</td>\n",
              "      <td>...</td>\n",
              "      <td>...</td>\n",
              "    </tr>\n",
              "    <tr>\n",
              "      <th>1180</th>\n",
              "      <td>0.454042</td>\n",
              "      <td>-0.888535</td>\n",
              "      <td>0.070701</td>\n",
              "      <td>-0.382521</td>\n",
              "      <td>1</td>\n",
              "      <td>0</td>\n",
              "      <td>0</td>\n",
              "      <td>0</td>\n",
              "    </tr>\n",
              "    <tr>\n",
              "      <th>1185</th>\n",
              "      <td>-0.595300</td>\n",
              "      <td>0.291589</td>\n",
              "      <td>0.145383</td>\n",
              "      <td>5.250696</td>\n",
              "      <td>0</td>\n",
              "      <td>0</td>\n",
              "      <td>0</td>\n",
              "      <td>1</td>\n",
              "    </tr>\n",
              "    <tr>\n",
              "      <th>1189</th>\n",
              "      <td>-0.433862</td>\n",
              "      <td>0.291589</td>\n",
              "      <td>0.145383</td>\n",
              "      <td>5.250696</td>\n",
              "      <td>0</td>\n",
              "      <td>0</td>\n",
              "      <td>0</td>\n",
              "      <td>1</td>\n",
              "    </tr>\n",
              "    <tr>\n",
              "      <th>1199</th>\n",
              "      <td>-0.110988</td>\n",
              "      <td>-0.888535</td>\n",
              "      <td>-0.423524</td>\n",
              "      <td>-0.382521</td>\n",
              "      <td>1</td>\n",
              "      <td>0</td>\n",
              "      <td>0</td>\n",
              "      <td>0</td>\n",
              "    </tr>\n",
              "    <tr>\n",
              "      <th>1204</th>\n",
              "      <td>-0.918174</td>\n",
              "      <td>-0.291757</td>\n",
              "      <td>-0.274708</td>\n",
              "      <td>-0.278126</td>\n",
              "      <td>0</td>\n",
              "      <td>0</td>\n",
              "      <td>0</td>\n",
              "      <td>1</td>\n",
              "    </tr>\n",
              "  </tbody>\n",
              "</table>\n",
              "<p>504 rows × 8 columns</p>\n",
              "</div>\n",
              "    <div class=\"colab-df-buttons\">\n",
              "\n",
              "  <div class=\"colab-df-container\">\n",
              "    <button class=\"colab-df-convert\" onclick=\"convertToInteractive('df-04829ae1-a4ee-4236-8fc4-9e804f6c781a')\"\n",
              "            title=\"Convert this dataframe to an interactive table.\"\n",
              "            style=\"display:none;\">\n",
              "\n",
              "  <svg xmlns=\"http://www.w3.org/2000/svg\" height=\"24px\" viewBox=\"0 -960 960 960\">\n",
              "    <path d=\"M120-120v-720h720v720H120Zm60-500h600v-160H180v160Zm220 220h160v-160H400v160Zm0 220h160v-160H400v160ZM180-400h160v-160H180v160Zm440 0h160v-160H620v160ZM180-180h160v-160H180v160Zm440 0h160v-160H620v160Z\"/>\n",
              "  </svg>\n",
              "    </button>\n",
              "\n",
              "  <style>\n",
              "    .colab-df-container {\n",
              "      display:flex;\n",
              "      gap: 12px;\n",
              "    }\n",
              "\n",
              "    .colab-df-convert {\n",
              "      background-color: #E8F0FE;\n",
              "      border: none;\n",
              "      border-radius: 50%;\n",
              "      cursor: pointer;\n",
              "      display: none;\n",
              "      fill: #1967D2;\n",
              "      height: 32px;\n",
              "      padding: 0 0 0 0;\n",
              "      width: 32px;\n",
              "    }\n",
              "\n",
              "    .colab-df-convert:hover {\n",
              "      background-color: #E2EBFA;\n",
              "      box-shadow: 0px 1px 2px rgba(60, 64, 67, 0.3), 0px 1px 3px 1px rgba(60, 64, 67, 0.15);\n",
              "      fill: #174EA6;\n",
              "    }\n",
              "\n",
              "    .colab-df-buttons div {\n",
              "      margin-bottom: 4px;\n",
              "    }\n",
              "\n",
              "    [theme=dark] .colab-df-convert {\n",
              "      background-color: #3B4455;\n",
              "      fill: #D2E3FC;\n",
              "    }\n",
              "\n",
              "    [theme=dark] .colab-df-convert:hover {\n",
              "      background-color: #434B5C;\n",
              "      box-shadow: 0px 1px 3px 1px rgba(0, 0, 0, 0.15);\n",
              "      filter: drop-shadow(0px 1px 2px rgba(0, 0, 0, 0.3));\n",
              "      fill: #FFFFFF;\n",
              "    }\n",
              "  </style>\n",
              "\n",
              "    <script>\n",
              "      const buttonEl =\n",
              "        document.querySelector('#df-04829ae1-a4ee-4236-8fc4-9e804f6c781a button.colab-df-convert');\n",
              "      buttonEl.style.display =\n",
              "        google.colab.kernel.accessAllowed ? 'block' : 'none';\n",
              "\n",
              "      async function convertToInteractive(key) {\n",
              "        const element = document.querySelector('#df-04829ae1-a4ee-4236-8fc4-9e804f6c781a');\n",
              "        const dataTable =\n",
              "          await google.colab.kernel.invokeFunction('convertToInteractive',\n",
              "                                                    [key], {});\n",
              "        if (!dataTable) return;\n",
              "\n",
              "        const docLinkHtml = 'Like what you see? Visit the ' +\n",
              "          '<a target=\"_blank\" href=https://colab.research.google.com/notebooks/data_table.ipynb>data table notebook</a>'\n",
              "          + ' to learn more about interactive tables.';\n",
              "        element.innerHTML = '';\n",
              "        dataTable['output_type'] = 'display_data';\n",
              "        await google.colab.output.renderOutput(dataTable, element);\n",
              "        const docLink = document.createElement('div');\n",
              "        docLink.innerHTML = docLinkHtml;\n",
              "        element.appendChild(docLink);\n",
              "      }\n",
              "    </script>\n",
              "  </div>\n",
              "\n",
              "\n",
              "<div id=\"df-b914dc7e-8caf-4783-8652-0dd5b98544a9\">\n",
              "  <button class=\"colab-df-quickchart\" onclick=\"quickchart('df-b914dc7e-8caf-4783-8652-0dd5b98544a9')\"\n",
              "            title=\"Suggest charts\"\n",
              "            style=\"display:none;\">\n",
              "\n",
              "<svg xmlns=\"http://www.w3.org/2000/svg\" height=\"24px\"viewBox=\"0 0 24 24\"\n",
              "     width=\"24px\">\n",
              "    <g>\n",
              "        <path d=\"M19 3H5c-1.1 0-2 .9-2 2v14c0 1.1.9 2 2 2h14c1.1 0 2-.9 2-2V5c0-1.1-.9-2-2-2zM9 17H7v-7h2v7zm4 0h-2V7h2v10zm4 0h-2v-4h2v4z\"/>\n",
              "    </g>\n",
              "</svg>\n",
              "  </button>\n",
              "\n",
              "<style>\n",
              "  .colab-df-quickchart {\n",
              "      --bg-color: #E8F0FE;\n",
              "      --fill-color: #1967D2;\n",
              "      --hover-bg-color: #E2EBFA;\n",
              "      --hover-fill-color: #174EA6;\n",
              "      --disabled-fill-color: #AAA;\n",
              "      --disabled-bg-color: #DDD;\n",
              "  }\n",
              "\n",
              "  [theme=dark] .colab-df-quickchart {\n",
              "      --bg-color: #3B4455;\n",
              "      --fill-color: #D2E3FC;\n",
              "      --hover-bg-color: #434B5C;\n",
              "      --hover-fill-color: #FFFFFF;\n",
              "      --disabled-bg-color: #3B4455;\n",
              "      --disabled-fill-color: #666;\n",
              "  }\n",
              "\n",
              "  .colab-df-quickchart {\n",
              "    background-color: var(--bg-color);\n",
              "    border: none;\n",
              "    border-radius: 50%;\n",
              "    cursor: pointer;\n",
              "    display: none;\n",
              "    fill: var(--fill-color);\n",
              "    height: 32px;\n",
              "    padding: 0;\n",
              "    width: 32px;\n",
              "  }\n",
              "\n",
              "  .colab-df-quickchart:hover {\n",
              "    background-color: var(--hover-bg-color);\n",
              "    box-shadow: 0 1px 2px rgba(60, 64, 67, 0.3), 0 1px 3px 1px rgba(60, 64, 67, 0.15);\n",
              "    fill: var(--button-hover-fill-color);\n",
              "  }\n",
              "\n",
              "  .colab-df-quickchart-complete:disabled,\n",
              "  .colab-df-quickchart-complete:disabled:hover {\n",
              "    background-color: var(--disabled-bg-color);\n",
              "    fill: var(--disabled-fill-color);\n",
              "    box-shadow: none;\n",
              "  }\n",
              "\n",
              "  .colab-df-spinner {\n",
              "    border: 2px solid var(--fill-color);\n",
              "    border-color: transparent;\n",
              "    border-bottom-color: var(--fill-color);\n",
              "    animation:\n",
              "      spin 1s steps(1) infinite;\n",
              "  }\n",
              "\n",
              "  @keyframes spin {\n",
              "    0% {\n",
              "      border-color: transparent;\n",
              "      border-bottom-color: var(--fill-color);\n",
              "      border-left-color: var(--fill-color);\n",
              "    }\n",
              "    20% {\n",
              "      border-color: transparent;\n",
              "      border-left-color: var(--fill-color);\n",
              "      border-top-color: var(--fill-color);\n",
              "    }\n",
              "    30% {\n",
              "      border-color: transparent;\n",
              "      border-left-color: var(--fill-color);\n",
              "      border-top-color: var(--fill-color);\n",
              "      border-right-color: var(--fill-color);\n",
              "    }\n",
              "    40% {\n",
              "      border-color: transparent;\n",
              "      border-right-color: var(--fill-color);\n",
              "      border-top-color: var(--fill-color);\n",
              "    }\n",
              "    60% {\n",
              "      border-color: transparent;\n",
              "      border-right-color: var(--fill-color);\n",
              "    }\n",
              "    80% {\n",
              "      border-color: transparent;\n",
              "      border-right-color: var(--fill-color);\n",
              "      border-bottom-color: var(--fill-color);\n",
              "    }\n",
              "    90% {\n",
              "      border-color: transparent;\n",
              "      border-bottom-color: var(--fill-color);\n",
              "    }\n",
              "  }\n",
              "</style>\n",
              "\n",
              "  <script>\n",
              "    async function quickchart(key) {\n",
              "      const quickchartButtonEl =\n",
              "        document.querySelector('#' + key + ' button');\n",
              "      quickchartButtonEl.disabled = true;  // To prevent multiple clicks.\n",
              "      quickchartButtonEl.classList.add('colab-df-spinner');\n",
              "      try {\n",
              "        const charts = await google.colab.kernel.invokeFunction(\n",
              "            'suggestCharts', [key], {});\n",
              "      } catch (error) {\n",
              "        console.error('Error during call to suggestCharts:', error);\n",
              "      }\n",
              "      quickchartButtonEl.classList.remove('colab-df-spinner');\n",
              "      quickchartButtonEl.classList.add('colab-df-quickchart-complete');\n",
              "    }\n",
              "    (() => {\n",
              "      let quickchartButtonEl =\n",
              "        document.querySelector('#df-b914dc7e-8caf-4783-8652-0dd5b98544a9 button');\n",
              "      quickchartButtonEl.style.display =\n",
              "        google.colab.kernel.accessAllowed ? 'block' : 'none';\n",
              "    })();\n",
              "  </script>\n",
              "</div>\n",
              "    </div>\n",
              "  </div>\n"
            ],
            "application/vnd.google.colaboratory.intrinsic+json": {
              "type": "dataframe",
              "variable_name": "features_matrix",
              "summary": "{\n  \"name\": \"features_matrix\",\n  \"rows\": 504,\n  \"fields\": [\n    {\n      \"column\": \"review_score\",\n      \"properties\": {\n        \"dtype\": \"number\",\n        \"std\": 1.0009935422222145,\n        \"min\": -3.3397313710718453,\n        \"max\": 2.2298508550056733,\n        \"num_unique_values\": 63,\n        \"samples\": [\n          -2.048234043285754,\n          -2.4518269582189074,\n          1.2612278591661048\n        ],\n        \"semantic_type\": \"\",\n        \"description\": \"\"\n      }\n    },\n    {\n      \"column\": \"main_story_length\",\n      \"properties\": {\n        \"dtype\": \"number\",\n        \"std\": 1.0009935422222145,\n        \"min\": -0.8885349957347598,\n        \"max\": 7.445252714909678,\n        \"num_unique_values\": 206,\n        \"samples\": [\n          7.445252714909678,\n          0.838476042621214,\n          0.6120457064812084\n        ],\n        \"semantic_type\": \"\",\n        \"description\": \"\"\n      }\n    },\n    {\n      \"column\": \"extras_length\",\n      \"properties\": {\n        \"dtype\": \"number\",\n        \"std\": 1.0009935422222145,\n        \"min\": -0.4235242750952046,\n        \"max\": 9.164436592885854,\n        \"num_unique_values\": 171,\n        \"samples\": [\n          2.7691678489850866,\n          0.13055662500748091,\n          0.4891441649153636\n        ],\n        \"semantic_type\": \"\",\n        \"description\": \"\"\n      }\n    },\n    {\n      \"column\": \"completionists_length\",\n      \"properties\": {\n        \"dtype\": \"number\",\n        \"std\": 1.0009935422222145,\n        \"min\": -0.38252129770675225,\n        \"max\": 12.380935667070107,\n        \"num_unique_values\": 156,\n        \"samples\": [\n          -0.2229996193509232,\n          -0.10241087761325543,\n          0.23764937408696757\n        ],\n        \"semantic_type\": \"\",\n        \"description\": \"\"\n      }\n    },\n    {\n      \"column\": \"publisher_EA\",\n      \"properties\": {\n        \"dtype\": \"number\",\n        \"std\": 0,\n        \"min\": 0,\n        \"max\": 1,\n        \"num_unique_values\": 2,\n        \"samples\": [\n          1,\n          0\n        ],\n        \"semantic_type\": \"\",\n        \"description\": \"\"\n      }\n    },\n    {\n      \"column\": \"publisher_Nintendo\",\n      \"properties\": {\n        \"dtype\": \"number\",\n        \"std\": 0,\n        \"min\": 0,\n        \"max\": 1,\n        \"num_unique_values\": 2,\n        \"samples\": [\n          0,\n          1\n        ],\n        \"semantic_type\": \"\",\n        \"description\": \"\"\n      }\n    },\n    {\n      \"column\": \"publisher_Sega\",\n      \"properties\": {\n        \"dtype\": \"number\",\n        \"std\": 0,\n        \"min\": 0,\n        \"max\": 1,\n        \"num_unique_values\": 2,\n        \"samples\": [\n          1,\n          0\n        ],\n        \"semantic_type\": \"\",\n        \"description\": \"\"\n      }\n    },\n    {\n      \"column\": \"publisher_Ubisoft\",\n      \"properties\": {\n        \"dtype\": \"number\",\n        \"std\": 0,\n        \"min\": 0,\n        \"max\": 1,\n        \"num_unique_values\": 2,\n        \"samples\": [\n          1,\n          0\n        ],\n        \"semantic_type\": \"\",\n        \"description\": \"\"\n      }\n    }\n  ]\n}"
            }
          },
          "metadata": {},
          "execution_count": 34
        }
      ],
      "source": [
        "features_matrix"
      ]
    },
    {
      "cell_type": "markdown",
      "metadata": {
        "id": "BtPuCBtpvkCR"
      },
      "source": [
        "We scaled the numerical explanatory variables in our dataset."
      ]
    },
    {
      "cell_type": "markdown",
      "metadata": {
        "id": "f6wt9opWdi83"
      },
      "source": [
        "## 6. Feature Selection with k-Fold Cross-Validation"
      ]
    },
    {
      "cell_type": "markdown",
      "metadata": {
        "id": "GD0jvL7Udi83"
      },
      "source": [
        "Now, we will use a backwards selection algorithm to find a model with a close-to-the-best AUC."
      ]
    },
    {
      "cell_type": "code",
      "execution_count": null,
      "metadata": {
        "id": "UC4WyO3Xdi84"
      },
      "outputs": [],
      "source": [
        "log_mod = LogisticRegression()"
      ]
    },
    {
      "cell_type": "code",
      "execution_count": null,
      "metadata": {
        "colab": {
          "base_uri": "https://localhost:8080/"
        },
        "id": "-WFi6gzkdi84",
        "outputId": "5719e65a-b72b-4781-bb5a-a4cc50a02aff"
      },
      "outputs": [
        {
          "output_type": "execute_result",
          "data": {
            "text/plain": [
              "KFold(n_splits=5, random_state=100, shuffle=True)"
            ]
          },
          "metadata": {},
          "execution_count": 36
        }
      ],
      "source": [
        "cross_val = KFold(n_splits = 5, shuffle = True, random_state = 100)\n",
        "cross_val"
      ]
    },
    {
      "cell_type": "code",
      "execution_count": null,
      "metadata": {
        "colab": {
          "base_uri": "https://localhost:8080/"
        },
        "id": "KT3E2OxYdi84",
        "outputId": "85a40f1b-40db-49ed-ae3b-9d41496a19e3"
      },
      "outputs": [
        {
          "output_type": "stream",
          "name": "stdout",
          "text": [
            "Mean Test Fold AUC: 0.8100233779340353\n"
          ]
        }
      ],
      "source": [
        "test_fold_r2 = cross_val_score(log_mod, features_matrix, target_array, cv = cross_val, scoring = 'roc_auc')\n",
        "print('Mean Test Fold AUC:', test_fold_r2.mean())"
      ]
    },
    {
      "cell_type": "code",
      "execution_count": null,
      "metadata": {
        "colab": {
          "base_uri": "https://localhost:8080/"
        },
        "id": "6wL_RDqidi84",
        "outputId": "2dbc42dd-9f40-4b05-fd76-4806d4624978"
      },
      "outputs": [
        {
          "output_type": "stream",
          "name": "stdout",
          "text": [
            "Mean Test Fold AUC: 0.7504135719658434\n"
          ]
        }
      ],
      "source": [
        "review_score_features_matrix = features_matrix[['main_story_length', 'extras_length', 'completionists_length',\t'publisher_EA',\t'publisher_Nintendo',\t'publisher_Sega',\t'publisher_Ubisoft']]\n",
        "test_fold_r2 = cross_val_score(log_mod, review_score_features_matrix, target_array, cv = cross_val, scoring = 'roc_auc')\n",
        "print('Mean Test Fold AUC:', test_fold_r2.mean())"
      ]
    },
    {
      "cell_type": "code",
      "execution_count": null,
      "metadata": {
        "colab": {
          "base_uri": "https://localhost:8080/"
        },
        "id": "nwjx8YZmdi84",
        "outputId": "cb6d0d85-e250-4d27-e654-108d6c5906a8"
      },
      "outputs": [
        {
          "output_type": "stream",
          "name": "stdout",
          "text": [
            "Mean Test Fold AUC: 0.8101240562938296\n"
          ]
        }
      ],
      "source": [
        "main_story_length_features_matrix = features_matrix[['review_score', 'extras_length', 'completionists_length',\t'publisher_EA',\t'publisher_Nintendo',\t'publisher_Sega',\t'publisher_Ubisoft']]\n",
        "test_fold_r2 = cross_val_score(log_mod, main_story_length_features_matrix, target_array, cv = cross_val, scoring = 'roc_auc')\n",
        "print('Mean Test Fold AUC:', test_fold_r2.mean())"
      ]
    },
    {
      "cell_type": "code",
      "execution_count": null,
      "metadata": {
        "colab": {
          "base_uri": "https://localhost:8080/"
        },
        "id": "bdX6w6MYdi84",
        "outputId": "39ce1b06-08aa-4c5b-f966-9638c182b1d9"
      },
      "outputs": [
        {
          "output_type": "stream",
          "name": "stdout",
          "text": [
            "Mean Test Fold AUC: 0.8087520364400289\n"
          ]
        }
      ],
      "source": [
        "extras_length_features_matrix = features_matrix[['review_score', 'main_story_length', 'completionists_length',\t'publisher_EA',\t'publisher_Nintendo',\t'publisher_Sega',\t'publisher_Ubisoft']]\n",
        "test_fold_r2 = cross_val_score(log_mod, extras_length_features_matrix, target_array, cv = cross_val, scoring = 'roc_auc')\n",
        "print('Mean Test Fold AUC:', test_fold_r2.mean())"
      ]
    },
    {
      "cell_type": "code",
      "execution_count": null,
      "metadata": {
        "colab": {
          "base_uri": "https://localhost:8080/"
        },
        "id": "c-B1TFGodi84",
        "outputId": "2b1d418c-92fa-437b-b4b8-57be58b50b31"
      },
      "outputs": [
        {
          "output_type": "stream",
          "name": "stdout",
          "text": [
            "Mean Test Fold AUC: 0.8116423028067518\n"
          ]
        }
      ],
      "source": [
        "completionists_length_features_matrix = features_matrix[['review_score', 'main_story_length', 'extras_length',\t'publisher_EA',\t'publisher_Nintendo',\t'publisher_Sega',\t'publisher_Ubisoft']]\n",
        "test_fold_r2 = cross_val_score(log_mod, completionists_length_features_matrix, target_array, cv = cross_val, scoring = 'roc_auc')\n",
        "print('Mean Test Fold AUC:', test_fold_r2.mean())"
      ]
    },
    {
      "cell_type": "code",
      "execution_count": null,
      "metadata": {
        "colab": {
          "base_uri": "https://localhost:8080/"
        },
        "id": "0OJ3pK4jdi84",
        "outputId": "4f1c9ffe-6bec-4d85-d234-154e82dc1df7"
      },
      "outputs": [
        {
          "output_type": "stream",
          "name": "stdout",
          "text": [
            "Mean Test Fold AUC: 0.7579144968067125\n"
          ]
        }
      ],
      "source": [
        "publisher_features_matrix = features_matrix[['review_score', 'main_story_length', 'extras_length',\t'completionists_length']]\n",
        "test_fold_r2 = cross_val_score(log_mod, publisher_features_matrix, target_array, cv = cross_val, scoring = 'roc_auc')\n",
        "print('Mean Test Fold AUC:', test_fold_r2.mean())"
      ]
    },
    {
      "cell_type": "markdown",
      "metadata": {
        "id": "kb4BRVtJd-wg"
      },
      "source": [
        "The best model in this round is the one including all explanatory variables besides `completionists_length`."
      ]
    },
    {
      "cell_type": "markdown",
      "metadata": {
        "id": "iv4v9gx0bV2k"
      },
      "source": [
        "-----------------------------------------------------------------------------------------------------------------------------------------------------------------------------------------------------------------------------------------------"
      ]
    },
    {
      "cell_type": "code",
      "execution_count": null,
      "metadata": {
        "colab": {
          "base_uri": "https://localhost:8080/"
        },
        "id": "mjOEyiuUdi84",
        "outputId": "2b21635c-33bc-4d7c-9996-68a08a12bafe"
      },
      "outputs": [
        {
          "output_type": "stream",
          "name": "stdout",
          "text": [
            "Mean Test Fold AUC: 0.7518440396152337\n"
          ]
        }
      ],
      "source": [
        "review_score_completionists_length_features_matrix = features_matrix[['main_story_length', 'extras_length',\t'publisher_EA',\t'publisher_Nintendo',\t'publisher_Sega',\t'publisher_Ubisoft']]\n",
        "test_fold_r2 = cross_val_score(log_mod, review_score_completionists_length_features_matrix, target_array, cv = cross_val, scoring = 'roc_auc')\n",
        "print('Mean Test Fold AUC:', test_fold_r2.mean())"
      ]
    },
    {
      "cell_type": "code",
      "execution_count": null,
      "metadata": {
        "colab": {
          "base_uri": "https://localhost:8080/"
        },
        "id": "QzH1bveSdi84",
        "outputId": "20734854-5b7c-4eaf-d45e-d367a8fb7b97"
      },
      "outputs": [
        {
          "output_type": "stream",
          "name": "stdout",
          "text": [
            "Mean Test Fold AUC: 0.8135670871344296\n"
          ]
        }
      ],
      "source": [
        "main_story_length_completionists_length_features_matrix = features_matrix[['review_score', 'extras_length',\t'publisher_EA',\t'publisher_Nintendo',\t'publisher_Sega',\t'publisher_Ubisoft']]\n",
        "test_fold_r2 = cross_val_score(log_mod, main_story_length_completionists_length_features_matrix, target_array, cv = cross_val, scoring = 'roc_auc')\n",
        "print('Mean Test Fold AUC:', test_fold_r2.mean())"
      ]
    },
    {
      "cell_type": "code",
      "execution_count": null,
      "metadata": {
        "colab": {
          "base_uri": "https://localhost:8080/"
        },
        "id": "0gBlVG3Rdi84",
        "outputId": "0efd3528-c7e3-46c8-89b9-ed2f4236be11"
      },
      "outputs": [
        {
          "output_type": "stream",
          "name": "stdout",
          "text": [
            "Mean Test Fold AUC: 0.8108053785629721\n"
          ]
        }
      ],
      "source": [
        "extras_length_completionists_length_features_matrix = features_matrix[['review_score', 'main_story_length',\t'publisher_EA',\t'publisher_Nintendo',\t'publisher_Sega',\t'publisher_Ubisoft']]\n",
        "test_fold_r2 = cross_val_score(log_mod, extras_length_completionists_length_features_matrix, target_array, cv = cross_val, scoring = 'roc_auc')\n",
        "print('Mean Test Fold AUC:', test_fold_r2.mean())"
      ]
    },
    {
      "cell_type": "code",
      "execution_count": null,
      "metadata": {
        "colab": {
          "base_uri": "https://localhost:8080/"
        },
        "id": "DA-x_Vx4di84",
        "outputId": "dedd9952-2314-48f6-803c-33450f06e76a"
      },
      "outputs": [
        {
          "output_type": "stream",
          "name": "stdout",
          "text": [
            "Mean Test Fold AUC: 0.7567720275132097\n"
          ]
        }
      ],
      "source": [
        "publisher_completionists_length_features_matrix = features_matrix[['review_score', 'main_story_length',\t'extras_length']]\n",
        "test_fold_r2 = cross_val_score(log_mod, publisher_completionists_length_features_matrix, target_array, cv = cross_val, scoring = 'roc_auc')\n",
        "print('Mean Test Fold AUC:', test_fold_r2.mean())"
      ]
    },
    {
      "cell_type": "markdown",
      "metadata": {
        "id": "r3DR0EbRexZ7"
      },
      "source": [
        "The best model in this round is the one including all explanatory variables besides `completionists_length` and `main_story_length`."
      ]
    },
    {
      "cell_type": "markdown",
      "metadata": {
        "id": "l7HaeC1AcMHB"
      },
      "source": [
        "-----------------------------------------------------------------------------------------------------------------------------------------------------------------------------------------------------------------------------------------------"
      ]
    },
    {
      "cell_type": "code",
      "execution_count": null,
      "metadata": {
        "colab": {
          "base_uri": "https://localhost:8080/"
        },
        "id": "xgLv-a2fdi84",
        "outputId": "c8532ba7-7f34-4554-ba8b-6fd04cc68d04"
      },
      "outputs": [
        {
          "output_type": "stream",
          "name": "stdout",
          "text": [
            "Mean Test Fold AUC: 0.7462432965467758\n"
          ]
        }
      ],
      "source": [
        "review_score_main_story_length_completionists_length_features_matrix = features_matrix[['extras_length',\t'publisher_EA',\t'publisher_Nintendo',\t'publisher_Sega',\t'publisher_Ubisoft']]\n",
        "test_fold_r2 = cross_val_score(log_mod, review_score_main_story_length_completionists_length_features_matrix, target_array, cv = cross_val, scoring = 'roc_auc')\n",
        "print('Mean Test Fold AUC:', test_fold_r2.mean())"
      ]
    },
    {
      "cell_type": "code",
      "execution_count": null,
      "metadata": {
        "colab": {
          "base_uri": "https://localhost:8080/"
        },
        "id": "cRdkxx0Bdi84",
        "outputId": "9f6ff684-c131-4f7f-9f08-3c0169531504"
      },
      "outputs": [
        {
          "output_type": "stream",
          "name": "stdout",
          "text": [
            "Mean Test Fold AUC: 0.807014578226814\n"
          ]
        }
      ],
      "source": [
        "extras_length_main_story_length_completionists_length_features_matrix = features_matrix[['review_score',\t'publisher_EA',\t'publisher_Nintendo',\t'publisher_Sega',\t'publisher_Ubisoft']]\n",
        "test_fold_r2 = cross_val_score(log_mod, extras_length_main_story_length_completionists_length_features_matrix, target_array, cv = cross_val, scoring = 'roc_auc')\n",
        "print('Mean Test Fold AUC:', test_fold_r2.mean())"
      ]
    },
    {
      "cell_type": "code",
      "execution_count": null,
      "metadata": {
        "colab": {
          "base_uri": "https://localhost:8080/"
        },
        "id": "xtZVMvmhc1X4",
        "outputId": "7f805b46-c39a-4f26-b197-270bfc90a8db"
      },
      "outputs": [
        {
          "output_type": "stream",
          "name": "stdout",
          "text": [
            "Mean Test Fold AUC: 0.7609508508863626\n"
          ]
        }
      ],
      "source": [
        "publisher_main_story_length_completionists_length_features_matrix = features_matrix[['review_score',\t'extras_length']]\n",
        "test_fold_r2 = cross_val_score(log_mod, publisher_main_story_length_completionists_length_features_matrix, target_array, cv = cross_val, scoring = 'roc_auc')\n",
        "print('Mean Test Fold AUC:', test_fold_r2.mean())"
      ]
    },
    {
      "cell_type": "markdown",
      "metadata": {
        "id": "FT75R_jZdi85"
      },
      "source": [
        "The best model according to a backwards selection algorithm is the one including all explanatory variables besides `completionists_length` and `main_story_length`."
      ]
    },
    {
      "cell_type": "markdown",
      "metadata": {
        "id": "WYQa4v_jdi85"
      },
      "source": [
        "## 7. Best Model Discussion"
      ]
    },
    {
      "cell_type": "code",
      "execution_count": null,
      "metadata": {
        "id": "GK6ONwWrj6Of"
      },
      "outputs": [],
      "source": [
        "indicator_variables = pd.get_dummies(df_clean[['publisher']], drop_first=True, dtype=int)\n",
        "df_clean = pd.concat([df_clean, indicator_variables], axis=1).drop(columns = 'publisher')\n",
        "df_clean[['review_score', 'main_story_length', 'extras_length', 'completionists_length']] = scaled_expl_vars"
      ]
    },
    {
      "cell_type": "code",
      "execution_count": null,
      "metadata": {
        "colab": {
          "base_uri": "https://localhost:8080/"
        },
        "id": "AZj2NhdHdi85",
        "outputId": "30a4a3b4-c61f-467e-aad4-1c3521db4d04"
      },
      "outputs": [
        {
          "output_type": "stream",
          "name": "stdout",
          "text": [
            "0.7996031746031746\n",
            "0.2003968253968254\n"
          ]
        }
      ],
      "source": [
        "df_train, df_test = train_test_split(df_clean, test_size = 0.2, random_state = 100)\n",
        "print(df_train.shape[0] / df_clean.shape[0])\n",
        "print(df_test.shape[0] / df_clean.shape[0])"
      ]
    },
    {
      "cell_type": "code",
      "execution_count": null,
      "metadata": {
        "colab": {
          "base_uri": "https://localhost:8080/",
          "height": 269
        },
        "id": "c4q-esSr0oK-",
        "outputId": "38ba6eb3-aa86-4093-941e-2aa1906999c0"
      },
      "outputs": [
        {
          "output_type": "execute_result",
          "data": {
            "text/plain": [
              "                    high_sales  review_score  extras_length  publisher_EA  \\\n",
              "high_sales            1.000000      0.324127       0.213808     -0.142279   \n",
              "review_score          0.324127      1.000000       0.205946      0.050432   \n",
              "extras_length         0.213808      0.205946       1.000000     -0.003068   \n",
              "publisher_EA         -0.142279      0.050432      -0.003068      1.000000   \n",
              "publisher_Nintendo    0.308011      0.239995       0.135405     -0.310600   \n",
              "publisher_Sega       -0.113666     -0.133239      -0.055510     -0.281951   \n",
              "publisher_Ubisoft    -0.104925     -0.120776      -0.046187     -0.341099   \n",
              "\n",
              "                    publisher_Nintendo  publisher_Sega  publisher_Ubisoft  \n",
              "high_sales                    0.308011       -0.113666          -0.104925  \n",
              "review_score                  0.239995       -0.133239          -0.120776  \n",
              "extras_length                 0.135405       -0.055510          -0.046187  \n",
              "publisher_EA                 -0.310600       -0.281951          -0.341099  \n",
              "publisher_Nintendo            1.000000       -0.177781          -0.215077  \n",
              "publisher_Sega               -0.177781        1.000000          -0.195239  \n",
              "publisher_Ubisoft            -0.215077       -0.195239           1.000000  "
            ],
            "text/html": [
              "\n",
              "  <div id=\"df-e098cb3d-2c9d-4003-8016-dc6bb91d6807\" class=\"colab-df-container\">\n",
              "    <div>\n",
              "<style scoped>\n",
              "    .dataframe tbody tr th:only-of-type {\n",
              "        vertical-align: middle;\n",
              "    }\n",
              "\n",
              "    .dataframe tbody tr th {\n",
              "        vertical-align: top;\n",
              "    }\n",
              "\n",
              "    .dataframe thead th {\n",
              "        text-align: right;\n",
              "    }\n",
              "</style>\n",
              "<table border=\"1\" class=\"dataframe\">\n",
              "  <thead>\n",
              "    <tr style=\"text-align: right;\">\n",
              "      <th></th>\n",
              "      <th>high_sales</th>\n",
              "      <th>review_score</th>\n",
              "      <th>extras_length</th>\n",
              "      <th>publisher_EA</th>\n",
              "      <th>publisher_Nintendo</th>\n",
              "      <th>publisher_Sega</th>\n",
              "      <th>publisher_Ubisoft</th>\n",
              "    </tr>\n",
              "  </thead>\n",
              "  <tbody>\n",
              "    <tr>\n",
              "      <th>high_sales</th>\n",
              "      <td>1.000000</td>\n",
              "      <td>0.324127</td>\n",
              "      <td>0.213808</td>\n",
              "      <td>-0.142279</td>\n",
              "      <td>0.308011</td>\n",
              "      <td>-0.113666</td>\n",
              "      <td>-0.104925</td>\n",
              "    </tr>\n",
              "    <tr>\n",
              "      <th>review_score</th>\n",
              "      <td>0.324127</td>\n",
              "      <td>1.000000</td>\n",
              "      <td>0.205946</td>\n",
              "      <td>0.050432</td>\n",
              "      <td>0.239995</td>\n",
              "      <td>-0.133239</td>\n",
              "      <td>-0.120776</td>\n",
              "    </tr>\n",
              "    <tr>\n",
              "      <th>extras_length</th>\n",
              "      <td>0.213808</td>\n",
              "      <td>0.205946</td>\n",
              "      <td>1.000000</td>\n",
              "      <td>-0.003068</td>\n",
              "      <td>0.135405</td>\n",
              "      <td>-0.055510</td>\n",
              "      <td>-0.046187</td>\n",
              "    </tr>\n",
              "    <tr>\n",
              "      <th>publisher_EA</th>\n",
              "      <td>-0.142279</td>\n",
              "      <td>0.050432</td>\n",
              "      <td>-0.003068</td>\n",
              "      <td>1.000000</td>\n",
              "      <td>-0.310600</td>\n",
              "      <td>-0.281951</td>\n",
              "      <td>-0.341099</td>\n",
              "    </tr>\n",
              "    <tr>\n",
              "      <th>publisher_Nintendo</th>\n",
              "      <td>0.308011</td>\n",
              "      <td>0.239995</td>\n",
              "      <td>0.135405</td>\n",
              "      <td>-0.310600</td>\n",
              "      <td>1.000000</td>\n",
              "      <td>-0.177781</td>\n",
              "      <td>-0.215077</td>\n",
              "    </tr>\n",
              "    <tr>\n",
              "      <th>publisher_Sega</th>\n",
              "      <td>-0.113666</td>\n",
              "      <td>-0.133239</td>\n",
              "      <td>-0.055510</td>\n",
              "      <td>-0.281951</td>\n",
              "      <td>-0.177781</td>\n",
              "      <td>1.000000</td>\n",
              "      <td>-0.195239</td>\n",
              "    </tr>\n",
              "    <tr>\n",
              "      <th>publisher_Ubisoft</th>\n",
              "      <td>-0.104925</td>\n",
              "      <td>-0.120776</td>\n",
              "      <td>-0.046187</td>\n",
              "      <td>-0.341099</td>\n",
              "      <td>-0.215077</td>\n",
              "      <td>-0.195239</td>\n",
              "      <td>1.000000</td>\n",
              "    </tr>\n",
              "  </tbody>\n",
              "</table>\n",
              "</div>\n",
              "    <div class=\"colab-df-buttons\">\n",
              "\n",
              "  <div class=\"colab-df-container\">\n",
              "    <button class=\"colab-df-convert\" onclick=\"convertToInteractive('df-e098cb3d-2c9d-4003-8016-dc6bb91d6807')\"\n",
              "            title=\"Convert this dataframe to an interactive table.\"\n",
              "            style=\"display:none;\">\n",
              "\n",
              "  <svg xmlns=\"http://www.w3.org/2000/svg\" height=\"24px\" viewBox=\"0 -960 960 960\">\n",
              "    <path d=\"M120-120v-720h720v720H120Zm60-500h600v-160H180v160Zm220 220h160v-160H400v160Zm0 220h160v-160H400v160ZM180-400h160v-160H180v160Zm440 0h160v-160H620v160ZM180-180h160v-160H180v160Zm440 0h160v-160H620v160Z\"/>\n",
              "  </svg>\n",
              "    </button>\n",
              "\n",
              "  <style>\n",
              "    .colab-df-container {\n",
              "      display:flex;\n",
              "      gap: 12px;\n",
              "    }\n",
              "\n",
              "    .colab-df-convert {\n",
              "      background-color: #E8F0FE;\n",
              "      border: none;\n",
              "      border-radius: 50%;\n",
              "      cursor: pointer;\n",
              "      display: none;\n",
              "      fill: #1967D2;\n",
              "      height: 32px;\n",
              "      padding: 0 0 0 0;\n",
              "      width: 32px;\n",
              "    }\n",
              "\n",
              "    .colab-df-convert:hover {\n",
              "      background-color: #E2EBFA;\n",
              "      box-shadow: 0px 1px 2px rgba(60, 64, 67, 0.3), 0px 1px 3px 1px rgba(60, 64, 67, 0.15);\n",
              "      fill: #174EA6;\n",
              "    }\n",
              "\n",
              "    .colab-df-buttons div {\n",
              "      margin-bottom: 4px;\n",
              "    }\n",
              "\n",
              "    [theme=dark] .colab-df-convert {\n",
              "      background-color: #3B4455;\n",
              "      fill: #D2E3FC;\n",
              "    }\n",
              "\n",
              "    [theme=dark] .colab-df-convert:hover {\n",
              "      background-color: #434B5C;\n",
              "      box-shadow: 0px 1px 3px 1px rgba(0, 0, 0, 0.15);\n",
              "      filter: drop-shadow(0px 1px 2px rgba(0, 0, 0, 0.3));\n",
              "      fill: #FFFFFF;\n",
              "    }\n",
              "  </style>\n",
              "\n",
              "    <script>\n",
              "      const buttonEl =\n",
              "        document.querySelector('#df-e098cb3d-2c9d-4003-8016-dc6bb91d6807 button.colab-df-convert');\n",
              "      buttonEl.style.display =\n",
              "        google.colab.kernel.accessAllowed ? 'block' : 'none';\n",
              "\n",
              "      async function convertToInteractive(key) {\n",
              "        const element = document.querySelector('#df-e098cb3d-2c9d-4003-8016-dc6bb91d6807');\n",
              "        const dataTable =\n",
              "          await google.colab.kernel.invokeFunction('convertToInteractive',\n",
              "                                                    [key], {});\n",
              "        if (!dataTable) return;\n",
              "\n",
              "        const docLinkHtml = 'Like what you see? Visit the ' +\n",
              "          '<a target=\"_blank\" href=https://colab.research.google.com/notebooks/data_table.ipynb>data table notebook</a>'\n",
              "          + ' to learn more about interactive tables.';\n",
              "        element.innerHTML = '';\n",
              "        dataTable['output_type'] = 'display_data';\n",
              "        await google.colab.output.renderOutput(dataTable, element);\n",
              "        const docLink = document.createElement('div');\n",
              "        docLink.innerHTML = docLinkHtml;\n",
              "        element.appendChild(docLink);\n",
              "      }\n",
              "    </script>\n",
              "  </div>\n",
              "\n",
              "\n",
              "<div id=\"df-c9412e89-0282-40eb-a792-4fe4b11d7141\">\n",
              "  <button class=\"colab-df-quickchart\" onclick=\"quickchart('df-c9412e89-0282-40eb-a792-4fe4b11d7141')\"\n",
              "            title=\"Suggest charts\"\n",
              "            style=\"display:none;\">\n",
              "\n",
              "<svg xmlns=\"http://www.w3.org/2000/svg\" height=\"24px\"viewBox=\"0 0 24 24\"\n",
              "     width=\"24px\">\n",
              "    <g>\n",
              "        <path d=\"M19 3H5c-1.1 0-2 .9-2 2v14c0 1.1.9 2 2 2h14c1.1 0 2-.9 2-2V5c0-1.1-.9-2-2-2zM9 17H7v-7h2v7zm4 0h-2V7h2v10zm4 0h-2v-4h2v4z\"/>\n",
              "    </g>\n",
              "</svg>\n",
              "  </button>\n",
              "\n",
              "<style>\n",
              "  .colab-df-quickchart {\n",
              "      --bg-color: #E8F0FE;\n",
              "      --fill-color: #1967D2;\n",
              "      --hover-bg-color: #E2EBFA;\n",
              "      --hover-fill-color: #174EA6;\n",
              "      --disabled-fill-color: #AAA;\n",
              "      --disabled-bg-color: #DDD;\n",
              "  }\n",
              "\n",
              "  [theme=dark] .colab-df-quickchart {\n",
              "      --bg-color: #3B4455;\n",
              "      --fill-color: #D2E3FC;\n",
              "      --hover-bg-color: #434B5C;\n",
              "      --hover-fill-color: #FFFFFF;\n",
              "      --disabled-bg-color: #3B4455;\n",
              "      --disabled-fill-color: #666;\n",
              "  }\n",
              "\n",
              "  .colab-df-quickchart {\n",
              "    background-color: var(--bg-color);\n",
              "    border: none;\n",
              "    border-radius: 50%;\n",
              "    cursor: pointer;\n",
              "    display: none;\n",
              "    fill: var(--fill-color);\n",
              "    height: 32px;\n",
              "    padding: 0;\n",
              "    width: 32px;\n",
              "  }\n",
              "\n",
              "  .colab-df-quickchart:hover {\n",
              "    background-color: var(--hover-bg-color);\n",
              "    box-shadow: 0 1px 2px rgba(60, 64, 67, 0.3), 0 1px 3px 1px rgba(60, 64, 67, 0.15);\n",
              "    fill: var(--button-hover-fill-color);\n",
              "  }\n",
              "\n",
              "  .colab-df-quickchart-complete:disabled,\n",
              "  .colab-df-quickchart-complete:disabled:hover {\n",
              "    background-color: var(--disabled-bg-color);\n",
              "    fill: var(--disabled-fill-color);\n",
              "    box-shadow: none;\n",
              "  }\n",
              "\n",
              "  .colab-df-spinner {\n",
              "    border: 2px solid var(--fill-color);\n",
              "    border-color: transparent;\n",
              "    border-bottom-color: var(--fill-color);\n",
              "    animation:\n",
              "      spin 1s steps(1) infinite;\n",
              "  }\n",
              "\n",
              "  @keyframes spin {\n",
              "    0% {\n",
              "      border-color: transparent;\n",
              "      border-bottom-color: var(--fill-color);\n",
              "      border-left-color: var(--fill-color);\n",
              "    }\n",
              "    20% {\n",
              "      border-color: transparent;\n",
              "      border-left-color: var(--fill-color);\n",
              "      border-top-color: var(--fill-color);\n",
              "    }\n",
              "    30% {\n",
              "      border-color: transparent;\n",
              "      border-left-color: var(--fill-color);\n",
              "      border-top-color: var(--fill-color);\n",
              "      border-right-color: var(--fill-color);\n",
              "    }\n",
              "    40% {\n",
              "      border-color: transparent;\n",
              "      border-right-color: var(--fill-color);\n",
              "      border-top-color: var(--fill-color);\n",
              "    }\n",
              "    60% {\n",
              "      border-color: transparent;\n",
              "      border-right-color: var(--fill-color);\n",
              "    }\n",
              "    80% {\n",
              "      border-color: transparent;\n",
              "      border-right-color: var(--fill-color);\n",
              "      border-bottom-color: var(--fill-color);\n",
              "    }\n",
              "    90% {\n",
              "      border-color: transparent;\n",
              "      border-bottom-color: var(--fill-color);\n",
              "    }\n",
              "  }\n",
              "</style>\n",
              "\n",
              "  <script>\n",
              "    async function quickchart(key) {\n",
              "      const quickchartButtonEl =\n",
              "        document.querySelector('#' + key + ' button');\n",
              "      quickchartButtonEl.disabled = true;  // To prevent multiple clicks.\n",
              "      quickchartButtonEl.classList.add('colab-df-spinner');\n",
              "      try {\n",
              "        const charts = await google.colab.kernel.invokeFunction(\n",
              "            'suggestCharts', [key], {});\n",
              "      } catch (error) {\n",
              "        console.error('Error during call to suggestCharts:', error);\n",
              "      }\n",
              "      quickchartButtonEl.classList.remove('colab-df-spinner');\n",
              "      quickchartButtonEl.classList.add('colab-df-quickchart-complete');\n",
              "    }\n",
              "    (() => {\n",
              "      let quickchartButtonEl =\n",
              "        document.querySelector('#df-c9412e89-0282-40eb-a792-4fe4b11d7141 button');\n",
              "      quickchartButtonEl.style.display =\n",
              "        google.colab.kernel.accessAllowed ? 'block' : 'none';\n",
              "    })();\n",
              "  </script>\n",
              "</div>\n",
              "    </div>\n",
              "  </div>\n"
            ],
            "application/vnd.google.colaboratory.intrinsic+json": {
              "type": "dataframe",
              "summary": "{\n  \"name\": \"df_train[['high_sales', 'review_score', 'extras_length', 'publisher_EA','publisher_Nintendo', 'publisher_Sega', 'publisher_Ubisoft']]\",\n  \"rows\": 7,\n  \"fields\": [\n    {\n      \"column\": \"high_sales\",\n      \"properties\": {\n        \"dtype\": \"number\",\n        \"std\": 0.40306142971611325,\n        \"min\": -0.14227862029953253,\n        \"max\": 1.0,\n        \"num_unique_values\": 7,\n        \"samples\": [\n          1.0,\n          0.32412733664525883,\n          -0.11366644163876005\n        ],\n        \"semantic_type\": \"\",\n        \"description\": \"\"\n      }\n    },\n    {\n      \"column\": \"review_score\",\n      \"properties\": {\n        \"dtype\": \"number\",\n        \"std\": 0.38501074220976095,\n        \"min\": -0.13323928465196347,\n        \"max\": 1.0,\n        \"num_unique_values\": 7,\n        \"samples\": [\n          0.32412733664525883,\n          1.0,\n          -0.13323928465196347\n        ],\n        \"semantic_type\": \"\",\n        \"description\": \"\"\n      }\n    },\n    {\n      \"column\": \"extras_length\",\n      \"properties\": {\n        \"dtype\": \"number\",\n        \"std\": 0.3676877358410152,\n        \"min\": -0.05551014750510576,\n        \"max\": 1.0,\n        \"num_unique_values\": 7,\n        \"samples\": [\n          0.213807841708616,\n          0.2059462343158759,\n          -0.05551014750510576\n        ],\n        \"semantic_type\": \"\",\n        \"description\": \"\"\n      }\n    },\n    {\n      \"column\": \"publisher_EA\",\n      \"properties\": {\n        \"dtype\": \"number\",\n        \"std\": 0.46815173951734207,\n        \"min\": -0.3410990430155196,\n        \"max\": 1.0,\n        \"num_unique_values\": 7,\n        \"samples\": [\n          -0.14227862029953253,\n          0.05043155381133758,\n          -0.28195072425570183\n        ],\n        \"semantic_type\": \"\",\n        \"description\": \"\"\n      }\n    },\n    {\n      \"column\": \"publisher_Nintendo\",\n      \"properties\": {\n        \"dtype\": \"number\",\n        \"std\": 0.448693008099159,\n        \"min\": -0.31059964551747654,\n        \"max\": 1.0,\n        \"num_unique_values\": 7,\n        \"samples\": [\n          0.3080111652908706,\n          0.23999519269867825,\n          -0.17778138836051507\n        ],\n        \"semantic_type\": \"\",\n        \"description\": \"\"\n      }\n    },\n    {\n      \"column\": \"publisher_Sega\",\n      \"properties\": {\n        \"dtype\": \"number\",\n        \"std\": 0.4439810995275341,\n        \"min\": -0.28195072425570183,\n        \"max\": 1.0,\n        \"num_unique_values\": 7,\n        \"samples\": [\n          -0.11366644163876005,\n          -0.13323928465196347,\n          1.0\n        ],\n        \"semantic_type\": \"\",\n        \"description\": \"\"\n      }\n    },\n    {\n      \"column\": \"publisher_Ubisoft\",\n      \"properties\": {\n        \"dtype\": \"number\",\n        \"std\": 0.4524703577339349,\n        \"min\": -0.3410990430155196,\n        \"max\": 1.0,\n        \"num_unique_values\": 7,\n        \"samples\": [\n          -0.10492481522041129,\n          -0.12077641676520597,\n          -0.19523866917076046\n        ],\n        \"semantic_type\": \"\",\n        \"description\": \"\"\n      }\n    }\n  ]\n}"
            }
          },
          "metadata": {},
          "execution_count": 52
        }
      ],
      "source": [
        "df_train[['high_sales', 'review_score', 'extras_length', 'publisher_EA','publisher_Nintendo', 'publisher_Sega', 'publisher_Ubisoft']].corr()"
      ]
    },
    {
      "cell_type": "markdown",
      "metadata": {
        "id": "rkcg1Oik1rJ0"
      },
      "source": [
        "Since none of our explanatory variables have a correlation coefficient with each other of 0.7 or greater, our model doesn't have an issue with multicollinearity."
      ]
    },
    {
      "cell_type": "code",
      "execution_count": null,
      "metadata": {
        "colab": {
          "base_uri": "https://localhost:8080/"
        },
        "id": "sPwBBehCdi85",
        "outputId": "6cad704c-0cf3-47b0-ff31-4799fd0dfc26"
      },
      "outputs": [
        {
          "output_type": "stream",
          "name": "stdout",
          "text": [
            "Optimization terminated successfully.\n",
            "         Current function value: 0.330911\n",
            "         Iterations 7\n"
          ]
        }
      ],
      "source": [
        "log_mod = smf.logit(formula = 'high_sales~review_score+extras_length+publisher_EA+publisher_Nintendo+publisher_Sega+publisher_Ubisoft',\n",
        "                    data = df_train\n",
        "                    ).fit()"
      ]
    },
    {
      "cell_type": "code",
      "execution_count": null,
      "metadata": {
        "colab": {
          "base_uri": "https://localhost:8080/",
          "height": 359
        },
        "id": "2AEtV2Azdi85",
        "outputId": "cc1f3baf-5477-4973-cc83-fe6465072f3c"
      },
      "outputs": [
        {
          "output_type": "execute_result",
          "data": {
            "text/plain": [
              "<class 'statsmodels.iolib.summary.Summary'>\n",
              "\"\"\"\n",
              "                           Logit Regression Results                           \n",
              "==============================================================================\n",
              "Dep. Variable:             high_sales   No. Observations:                  403\n",
              "Model:                          Logit   Df Residuals:                      396\n",
              "Method:                           MLE   Df Model:                            6\n",
              "Date:                Tue, 30 Apr 2024   Pseudo R-squ.:                  0.2367\n",
              "Time:                        18:31:17   Log-Likelihood:                -133.36\n",
              "converged:                       True   LL-Null:                       -174.71\n",
              "Covariance Type:            nonrobust   LLR p-value:                 9.830e-16\n",
              "======================================================================================\n",
              "                         coef    std err          z      P>|z|      [0.025      0.975]\n",
              "--------------------------------------------------------------------------------------\n",
              "Intercept             -1.4507      0.324     -4.483      0.000      -2.085      -0.816\n",
              "review_score           1.0347      0.212      4.881      0.000       0.619       1.450\n",
              "extras_length          0.2339      0.118      1.983      0.047       0.003       0.465\n",
              "publisher_EA          -1.4233      0.458     -3.104      0.002      -2.322      -0.525\n",
              "publisher_Nintendo     0.3521      0.417      0.845      0.398      -0.465       1.169\n",
              "publisher_Sega        -1.5793      0.682     -2.316      0.021      -2.916      -0.243\n",
              "publisher_Ubisoft     -1.2081      0.543     -2.227      0.026      -2.271      -0.145\n",
              "======================================================================================\n",
              "\"\"\""
            ],
            "text/html": [
              "<table class=\"simpletable\">\n",
              "<caption>Logit Regression Results</caption>\n",
              "<tr>\n",
              "  <th>Dep. Variable:</th>      <td>high_sales</td>    <th>  No. Observations:  </th>  <td>   403</td>  \n",
              "</tr>\n",
              "<tr>\n",
              "  <th>Model:</th>                 <td>Logit</td>      <th>  Df Residuals:      </th>  <td>   396</td>  \n",
              "</tr>\n",
              "<tr>\n",
              "  <th>Method:</th>                 <td>MLE</td>       <th>  Df Model:          </th>  <td>     6</td>  \n",
              "</tr>\n",
              "<tr>\n",
              "  <th>Date:</th>            <td>Tue, 30 Apr 2024</td> <th>  Pseudo R-squ.:     </th>  <td>0.2367</td>  \n",
              "</tr>\n",
              "<tr>\n",
              "  <th>Time:</th>                <td>18:31:17</td>     <th>  Log-Likelihood:    </th> <td> -133.36</td> \n",
              "</tr>\n",
              "<tr>\n",
              "  <th>converged:</th>             <td>True</td>       <th>  LL-Null:           </th> <td> -174.71</td> \n",
              "</tr>\n",
              "<tr>\n",
              "  <th>Covariance Type:</th>     <td>nonrobust</td>    <th>  LLR p-value:       </th> <td>9.830e-16</td>\n",
              "</tr>\n",
              "</table>\n",
              "<table class=\"simpletable\">\n",
              "<tr>\n",
              "           <td></td>             <th>coef</th>     <th>std err</th>      <th>z</th>      <th>P>|z|</th>  <th>[0.025</th>    <th>0.975]</th>  \n",
              "</tr>\n",
              "<tr>\n",
              "  <th>Intercept</th>          <td>   -1.4507</td> <td>    0.324</td> <td>   -4.483</td> <td> 0.000</td> <td>   -2.085</td> <td>   -0.816</td>\n",
              "</tr>\n",
              "<tr>\n",
              "  <th>review_score</th>       <td>    1.0347</td> <td>    0.212</td> <td>    4.881</td> <td> 0.000</td> <td>    0.619</td> <td>    1.450</td>\n",
              "</tr>\n",
              "<tr>\n",
              "  <th>extras_length</th>      <td>    0.2339</td> <td>    0.118</td> <td>    1.983</td> <td> 0.047</td> <td>    0.003</td> <td>    0.465</td>\n",
              "</tr>\n",
              "<tr>\n",
              "  <th>publisher_EA</th>       <td>   -1.4233</td> <td>    0.458</td> <td>   -3.104</td> <td> 0.002</td> <td>   -2.322</td> <td>   -0.525</td>\n",
              "</tr>\n",
              "<tr>\n",
              "  <th>publisher_Nintendo</th> <td>    0.3521</td> <td>    0.417</td> <td>    0.845</td> <td> 0.398</td> <td>   -0.465</td> <td>    1.169</td>\n",
              "</tr>\n",
              "<tr>\n",
              "  <th>publisher_Sega</th>     <td>   -1.5793</td> <td>    0.682</td> <td>   -2.316</td> <td> 0.021</td> <td>   -2.916</td> <td>   -0.243</td>\n",
              "</tr>\n",
              "<tr>\n",
              "  <th>publisher_Ubisoft</th>  <td>   -1.2081</td> <td>    0.543</td> <td>   -2.227</td> <td> 0.026</td> <td>   -2.271</td> <td>   -0.145</td>\n",
              "</tr>\n",
              "</table>"
            ],
            "text/latex": "\\begin{center}\n\\begin{tabular}{lclc}\n\\toprule\n\\textbf{Dep. Variable:}      &   high\\_sales    & \\textbf{  No. Observations:  } &      403    \\\\\n\\textbf{Model:}              &      Logit       & \\textbf{  Df Residuals:      } &      396    \\\\\n\\textbf{Method:}             &       MLE        & \\textbf{  Df Model:          } &        6    \\\\\n\\textbf{Date:}               & Tue, 30 Apr 2024 & \\textbf{  Pseudo R-squ.:     } &   0.2367    \\\\\n\\textbf{Time:}               &     18:31:17     & \\textbf{  Log-Likelihood:    } &   -133.36   \\\\\n\\textbf{converged:}          &       True       & \\textbf{  LL-Null:           } &   -174.71   \\\\\n\\textbf{Covariance Type:}    &    nonrobust     & \\textbf{  LLR p-value:       } & 9.830e-16   \\\\\n\\bottomrule\n\\end{tabular}\n\\begin{tabular}{lcccccc}\n                             & \\textbf{coef} & \\textbf{std err} & \\textbf{z} & \\textbf{P$> |$z$|$} & \\textbf{[0.025} & \\textbf{0.975]}  \\\\\n\\midrule\n\\textbf{Intercept}           &      -1.4507  &        0.324     &    -4.483  &         0.000        &       -2.085    &       -0.816     \\\\\n\\textbf{review\\_score}       &       1.0347  &        0.212     &     4.881  &         0.000        &        0.619    &        1.450     \\\\\n\\textbf{extras\\_length}      &       0.2339  &        0.118     &     1.983  &         0.047        &        0.003    &        0.465     \\\\\n\\textbf{publisher\\_EA}       &      -1.4233  &        0.458     &    -3.104  &         0.002        &       -2.322    &       -0.525     \\\\\n\\textbf{publisher\\_Nintendo} &       0.3521  &        0.417     &     0.845  &         0.398        &       -0.465    &        1.169     \\\\\n\\textbf{publisher\\_Sega}     &      -1.5793  &        0.682     &    -2.316  &         0.021        &       -2.916    &       -0.243     \\\\\n\\textbf{publisher\\_Ubisoft}  &      -1.2081  &        0.543     &    -2.227  &         0.026        &       -2.271    &       -0.145     \\\\\n\\bottomrule\n\\end{tabular}\n%\\caption{Logit Regression Results}\n\\end{center}"
          },
          "metadata": {},
          "execution_count": 54
        }
      ],
      "source": [
        "log_mod.summary()"
      ]
    },
    {
      "cell_type": "markdown",
      "metadata": {
        "id": "ZaoEIr6fonFa"
      },
      "source": [
        "\\begin{align*}\n",
        "\\widehat{high\\_sales}= &- 1.4507 \\\\\n",
        "&+ 1.0347 \\times review\\_score \\\\\n",
        "&+ 0.2339 \\times extras\\_length \\\\\n",
        "&- 1.4233 \\times publisher_{EA} \\\\\n",
        "&+ 0.3521 \\times publisher_{Nintendo} \\\\\n",
        "&- 1.5793 \\times publisher_{Sega} \\\\\n",
        "&- 1.2081 \\times publisher_{Ubisoft} \\\\\n",
        "\\end{align*}"
      ]
    },
    {
      "cell_type": "markdown",
      "metadata": {
        "id": "HEYcY9AhqwUI"
      },
      "source": [
        "We are not able to determine the predictive power based off of the magnitude of the slope. Our explanatory variables have been z-score scaled and the numerical explanatory variables included in our model do not exhibit collinear relationships with each other. However, `publisher` does exhibit a relationship with `review_score` and `extras_length`, and may affect the relationship between those explanatory variables and our response variable."
      ]
    },
    {
      "cell_type": "code",
      "source": [
        "df_train[['high_sales', 'completionists_length', 'main_story_length']].corr()"
      ],
      "metadata": {
        "colab": {
          "base_uri": "https://localhost:8080/",
          "height": 143
        },
        "id": "Vg_1qBhkpGkR",
        "outputId": "fee34cd9-3251-42e0-c4b6-ce426b8e595c"
      },
      "execution_count": null,
      "outputs": [
        {
          "output_type": "execute_result",
          "data": {
            "text/plain": [
              "                       high_sales  completionists_length  main_story_length\n",
              "high_sales               1.000000               0.300194           0.229372\n",
              "completionists_length    0.300194               1.000000           0.665964\n",
              "main_story_length        0.229372               0.665964           1.000000"
            ],
            "text/html": [
              "\n",
              "  <div id=\"df-45f516d9-d99f-46e6-a41f-9481c96d8cce\" class=\"colab-df-container\">\n",
              "    <div>\n",
              "<style scoped>\n",
              "    .dataframe tbody tr th:only-of-type {\n",
              "        vertical-align: middle;\n",
              "    }\n",
              "\n",
              "    .dataframe tbody tr th {\n",
              "        vertical-align: top;\n",
              "    }\n",
              "\n",
              "    .dataframe thead th {\n",
              "        text-align: right;\n",
              "    }\n",
              "</style>\n",
              "<table border=\"1\" class=\"dataframe\">\n",
              "  <thead>\n",
              "    <tr style=\"text-align: right;\">\n",
              "      <th></th>\n",
              "      <th>high_sales</th>\n",
              "      <th>completionists_length</th>\n",
              "      <th>main_story_length</th>\n",
              "    </tr>\n",
              "  </thead>\n",
              "  <tbody>\n",
              "    <tr>\n",
              "      <th>high_sales</th>\n",
              "      <td>1.000000</td>\n",
              "      <td>0.300194</td>\n",
              "      <td>0.229372</td>\n",
              "    </tr>\n",
              "    <tr>\n",
              "      <th>completionists_length</th>\n",
              "      <td>0.300194</td>\n",
              "      <td>1.000000</td>\n",
              "      <td>0.665964</td>\n",
              "    </tr>\n",
              "    <tr>\n",
              "      <th>main_story_length</th>\n",
              "      <td>0.229372</td>\n",
              "      <td>0.665964</td>\n",
              "      <td>1.000000</td>\n",
              "    </tr>\n",
              "  </tbody>\n",
              "</table>\n",
              "</div>\n",
              "    <div class=\"colab-df-buttons\">\n",
              "\n",
              "  <div class=\"colab-df-container\">\n",
              "    <button class=\"colab-df-convert\" onclick=\"convertToInteractive('df-45f516d9-d99f-46e6-a41f-9481c96d8cce')\"\n",
              "            title=\"Convert this dataframe to an interactive table.\"\n",
              "            style=\"display:none;\">\n",
              "\n",
              "  <svg xmlns=\"http://www.w3.org/2000/svg\" height=\"24px\" viewBox=\"0 -960 960 960\">\n",
              "    <path d=\"M120-120v-720h720v720H120Zm60-500h600v-160H180v160Zm220 220h160v-160H400v160Zm0 220h160v-160H400v160ZM180-400h160v-160H180v160Zm440 0h160v-160H620v160ZM180-180h160v-160H180v160Zm440 0h160v-160H620v160Z\"/>\n",
              "  </svg>\n",
              "    </button>\n",
              "\n",
              "  <style>\n",
              "    .colab-df-container {\n",
              "      display:flex;\n",
              "      gap: 12px;\n",
              "    }\n",
              "\n",
              "    .colab-df-convert {\n",
              "      background-color: #E8F0FE;\n",
              "      border: none;\n",
              "      border-radius: 50%;\n",
              "      cursor: pointer;\n",
              "      display: none;\n",
              "      fill: #1967D2;\n",
              "      height: 32px;\n",
              "      padding: 0 0 0 0;\n",
              "      width: 32px;\n",
              "    }\n",
              "\n",
              "    .colab-df-convert:hover {\n",
              "      background-color: #E2EBFA;\n",
              "      box-shadow: 0px 1px 2px rgba(60, 64, 67, 0.3), 0px 1px 3px 1px rgba(60, 64, 67, 0.15);\n",
              "      fill: #174EA6;\n",
              "    }\n",
              "\n",
              "    .colab-df-buttons div {\n",
              "      margin-bottom: 4px;\n",
              "    }\n",
              "\n",
              "    [theme=dark] .colab-df-convert {\n",
              "      background-color: #3B4455;\n",
              "      fill: #D2E3FC;\n",
              "    }\n",
              "\n",
              "    [theme=dark] .colab-df-convert:hover {\n",
              "      background-color: #434B5C;\n",
              "      box-shadow: 0px 1px 3px 1px rgba(0, 0, 0, 0.15);\n",
              "      filter: drop-shadow(0px 1px 2px rgba(0, 0, 0, 0.3));\n",
              "      fill: #FFFFFF;\n",
              "    }\n",
              "  </style>\n",
              "\n",
              "    <script>\n",
              "      const buttonEl =\n",
              "        document.querySelector('#df-45f516d9-d99f-46e6-a41f-9481c96d8cce button.colab-df-convert');\n",
              "      buttonEl.style.display =\n",
              "        google.colab.kernel.accessAllowed ? 'block' : 'none';\n",
              "\n",
              "      async function convertToInteractive(key) {\n",
              "        const element = document.querySelector('#df-45f516d9-d99f-46e6-a41f-9481c96d8cce');\n",
              "        const dataTable =\n",
              "          await google.colab.kernel.invokeFunction('convertToInteractive',\n",
              "                                                    [key], {});\n",
              "        if (!dataTable) return;\n",
              "\n",
              "        const docLinkHtml = 'Like what you see? Visit the ' +\n",
              "          '<a target=\"_blank\" href=https://colab.research.google.com/notebooks/data_table.ipynb>data table notebook</a>'\n",
              "          + ' to learn more about interactive tables.';\n",
              "        element.innerHTML = '';\n",
              "        dataTable['output_type'] = 'display_data';\n",
              "        await google.colab.output.renderOutput(dataTable, element);\n",
              "        const docLink = document.createElement('div');\n",
              "        docLink.innerHTML = docLinkHtml;\n",
              "        element.appendChild(docLink);\n",
              "      }\n",
              "    </script>\n",
              "  </div>\n",
              "\n",
              "\n",
              "<div id=\"df-4740018d-6533-4d3b-a88d-dec597be56bb\">\n",
              "  <button class=\"colab-df-quickchart\" onclick=\"quickchart('df-4740018d-6533-4d3b-a88d-dec597be56bb')\"\n",
              "            title=\"Suggest charts\"\n",
              "            style=\"display:none;\">\n",
              "\n",
              "<svg xmlns=\"http://www.w3.org/2000/svg\" height=\"24px\"viewBox=\"0 0 24 24\"\n",
              "     width=\"24px\">\n",
              "    <g>\n",
              "        <path d=\"M19 3H5c-1.1 0-2 .9-2 2v14c0 1.1.9 2 2 2h14c1.1 0 2-.9 2-2V5c0-1.1-.9-2-2-2zM9 17H7v-7h2v7zm4 0h-2V7h2v10zm4 0h-2v-4h2v4z\"/>\n",
              "    </g>\n",
              "</svg>\n",
              "  </button>\n",
              "\n",
              "<style>\n",
              "  .colab-df-quickchart {\n",
              "      --bg-color: #E8F0FE;\n",
              "      --fill-color: #1967D2;\n",
              "      --hover-bg-color: #E2EBFA;\n",
              "      --hover-fill-color: #174EA6;\n",
              "      --disabled-fill-color: #AAA;\n",
              "      --disabled-bg-color: #DDD;\n",
              "  }\n",
              "\n",
              "  [theme=dark] .colab-df-quickchart {\n",
              "      --bg-color: #3B4455;\n",
              "      --fill-color: #D2E3FC;\n",
              "      --hover-bg-color: #434B5C;\n",
              "      --hover-fill-color: #FFFFFF;\n",
              "      --disabled-bg-color: #3B4455;\n",
              "      --disabled-fill-color: #666;\n",
              "  }\n",
              "\n",
              "  .colab-df-quickchart {\n",
              "    background-color: var(--bg-color);\n",
              "    border: none;\n",
              "    border-radius: 50%;\n",
              "    cursor: pointer;\n",
              "    display: none;\n",
              "    fill: var(--fill-color);\n",
              "    height: 32px;\n",
              "    padding: 0;\n",
              "    width: 32px;\n",
              "  }\n",
              "\n",
              "  .colab-df-quickchart:hover {\n",
              "    background-color: var(--hover-bg-color);\n",
              "    box-shadow: 0 1px 2px rgba(60, 64, 67, 0.3), 0 1px 3px 1px rgba(60, 64, 67, 0.15);\n",
              "    fill: var(--button-hover-fill-color);\n",
              "  }\n",
              "\n",
              "  .colab-df-quickchart-complete:disabled,\n",
              "  .colab-df-quickchart-complete:disabled:hover {\n",
              "    background-color: var(--disabled-bg-color);\n",
              "    fill: var(--disabled-fill-color);\n",
              "    box-shadow: none;\n",
              "  }\n",
              "\n",
              "  .colab-df-spinner {\n",
              "    border: 2px solid var(--fill-color);\n",
              "    border-color: transparent;\n",
              "    border-bottom-color: var(--fill-color);\n",
              "    animation:\n",
              "      spin 1s steps(1) infinite;\n",
              "  }\n",
              "\n",
              "  @keyframes spin {\n",
              "    0% {\n",
              "      border-color: transparent;\n",
              "      border-bottom-color: var(--fill-color);\n",
              "      border-left-color: var(--fill-color);\n",
              "    }\n",
              "    20% {\n",
              "      border-color: transparent;\n",
              "      border-left-color: var(--fill-color);\n",
              "      border-top-color: var(--fill-color);\n",
              "    }\n",
              "    30% {\n",
              "      border-color: transparent;\n",
              "      border-left-color: var(--fill-color);\n",
              "      border-top-color: var(--fill-color);\n",
              "      border-right-color: var(--fill-color);\n",
              "    }\n",
              "    40% {\n",
              "      border-color: transparent;\n",
              "      border-right-color: var(--fill-color);\n",
              "      border-top-color: var(--fill-color);\n",
              "    }\n",
              "    60% {\n",
              "      border-color: transparent;\n",
              "      border-right-color: var(--fill-color);\n",
              "    }\n",
              "    80% {\n",
              "      border-color: transparent;\n",
              "      border-right-color: var(--fill-color);\n",
              "      border-bottom-color: var(--fill-color);\n",
              "    }\n",
              "    90% {\n",
              "      border-color: transparent;\n",
              "      border-bottom-color: var(--fill-color);\n",
              "    }\n",
              "  }\n",
              "</style>\n",
              "\n",
              "  <script>\n",
              "    async function quickchart(key) {\n",
              "      const quickchartButtonEl =\n",
              "        document.querySelector('#' + key + ' button');\n",
              "      quickchartButtonEl.disabled = true;  // To prevent multiple clicks.\n",
              "      quickchartButtonEl.classList.add('colab-df-spinner');\n",
              "      try {\n",
              "        const charts = await google.colab.kernel.invokeFunction(\n",
              "            'suggestCharts', [key], {});\n",
              "      } catch (error) {\n",
              "        console.error('Error during call to suggestCharts:', error);\n",
              "      }\n",
              "      quickchartButtonEl.classList.remove('colab-df-spinner');\n",
              "      quickchartButtonEl.classList.add('colab-df-quickchart-complete');\n",
              "    }\n",
              "    (() => {\n",
              "      let quickchartButtonEl =\n",
              "        document.querySelector('#df-4740018d-6533-4d3b-a88d-dec597be56bb button');\n",
              "      quickchartButtonEl.style.display =\n",
              "        google.colab.kernel.accessAllowed ? 'block' : 'none';\n",
              "    })();\n",
              "  </script>\n",
              "</div>\n",
              "    </div>\n",
              "  </div>\n"
            ],
            "application/vnd.google.colaboratory.intrinsic+json": {
              "type": "dataframe",
              "summary": "{\n  \"name\": \"df_train[['high_sales', 'completionists_length', 'main_story_length']]\",\n  \"rows\": 3,\n  \"fields\": [\n    {\n      \"column\": \"high_sales\",\n      \"properties\": {\n        \"dtype\": \"number\",\n        \"std\": 0.42595225228021977,\n        \"min\": 0.22937173368992114,\n        \"max\": 1.0,\n        \"num_unique_values\": 3,\n        \"samples\": [\n          1.0,\n          0.3001941816755152,\n          0.22937173368992114\n        ],\n        \"semantic_type\": \"\",\n        \"description\": \"\"\n      }\n    },\n    {\n      \"column\": \"completionists_length\",\n      \"properties\": {\n        \"dtype\": \"number\",\n        \"std\": 0.35002281067254204,\n        \"min\": 0.3001941816755152,\n        \"max\": 1.0,\n        \"num_unique_values\": 3,\n        \"samples\": [\n          0.3001941816755152,\n          1.0,\n          0.6659642409510339\n        ],\n        \"semantic_type\": \"\",\n        \"description\": \"\"\n      }\n    },\n    {\n      \"column\": \"main_story_length\",\n      \"properties\": {\n        \"dtype\": \"number\",\n        \"std\": 0.3864498308439794,\n        \"min\": 0.22937173368992114,\n        \"max\": 1.0,\n        \"num_unique_values\": 3,\n        \"samples\": [\n          0.22937173368992114,\n          0.6659642409510339,\n          1.0\n        ],\n        \"semantic_type\": \"\",\n        \"description\": \"\"\n      }\n    }\n  ]\n}"
            }
          },
          "metadata": {},
          "execution_count": 55
        }
      ]
    },
    {
      "cell_type": "markdown",
      "metadata": {
        "id": "Ct5NGTz9suaF"
      },
      "source": [
        "Our best model does suggest that there was overfitting in our full model. This is because our backwards selection algorithm eliminated two variables, `completionists_length` and `main_story_length`, to improve the mean AUC of our model. These variables also had a correlation coefficient <0.3 with our response variable, so they did not have a high correlation or predicting power in our model."
      ]
    },
    {
      "cell_type": "code",
      "execution_count": null,
      "metadata": {
        "id": "CIKVjs2Cdi85"
      },
      "outputs": [],
      "source": [
        "df_test['predictive_prob'] = log_mod.predict(df_test)"
      ]
    },
    {
      "cell_type": "code",
      "execution_count": null,
      "metadata": {
        "id": "YnfmduuNuaO2"
      },
      "outputs": [],
      "source": [
        "fprs, tprs, thresholds = roc_curve(y_true=df_test['high_sales'] , y_score = df_test['predictive_prob'] )"
      ]
    },
    {
      "cell_type": "code",
      "execution_count": null,
      "metadata": {
        "colab": {
          "base_uri": "https://localhost:8080/"
        },
        "id": "bpStWinSuaYM",
        "outputId": "90dc2484-6d57-4b29-9a19-54988544d183"
      },
      "outputs": [
        {
          "output_type": "execute_result",
          "data": {
            "text/plain": [
              "0.8352059925093633"
            ]
          },
          "metadata": {},
          "execution_count": 58
        }
      ],
      "source": [
        "auc = roc_auc_score(y_true = df_test['high_sales'] , y_score = df_test['predictive_prob'])\n",
        "auc"
      ]
    },
    {
      "cell_type": "code",
      "execution_count": null,
      "metadata": {
        "id": "PWhz94bkdi85"
      },
      "outputs": [],
      "source": [
        "def plot_roc(fpr, tpr, auc, lw=2):\n",
        "    plt.plot(fpr, tpr, color = 'darkorange' , lw=lw, label = 'ROC curve (area = '+str(round(auc,3))+')')\n",
        "    plt.plot([0,1] , [0,1], color = 'navy', lw=lw, linestyle = '--')\n",
        "    plt.xlabel('False Pos Rate')\n",
        "    plt.ylabel('True Pos Rate')\n",
        "    plt.title('ROC Curve')\n",
        "    plt.legend(loc = 'lower right')\n",
        "    plt.show"
      ]
    },
    {
      "cell_type": "code",
      "execution_count": null,
      "metadata": {
        "id": "663218JelI3s"
      },
      "outputs": [],
      "source": [
        "def fpr_tpr_thresh(y, pred_prob, thresh):\n",
        "    yhat = 1 * (pred_prob >= thresh)\n",
        "    tn, fp, fn, tp = confusion_matrix(y_true = y, y_pred = yhat).ravel()\n",
        "    tpr = tp / (fn + tp)\n",
        "    fpr = fp / (fp + tn)\n",
        "    return pd.DataFrame({'threshold': [thresh],\n",
        "                         'fpr': [fpr],\n",
        "                         'tpr': [tpr]\n",
        "                         })"
      ]
    },
    {
      "cell_type": "code",
      "execution_count": null,
      "metadata": {
        "colab": {
          "base_uri": "https://localhost:8080/",
          "height": 472
        },
        "id": "l0cdxleKdi85",
        "outputId": "2b97832e-b1b6-43b4-a292-338889dfe429"
      },
      "outputs": [
        {
          "output_type": "display_data",
          "data": {
            "text/plain": [
              "<Figure size 640x480 with 1 Axes>"
            ],
            "image/png": "[encoded data removed]"
          },
          "metadata": {}
        }
      ],
      "source": [
        "plot_roc(fprs, tprs, auc)"
      ]
    },
    {
      "cell_type": "markdown",
      "metadata": {
        "id": "HnIxVx1dvP9e"
      },
      "source": [
        "With an AUC of 0.8352, this model performs well. Random classification would yield an AUC of 0.5, and a perfect model would yield an AUC of 1. Thus, our best model yields relatively good results."
      ]
    },
    {
      "cell_type": "code",
      "execution_count": null,
      "metadata": {
        "colab": {
          "base_uri": "https://localhost:8080/"
        },
        "id": "ZM0Gnadhuj0f",
        "outputId": "0b83a8b1-4327-4b1d-92cf-54210e4abd65"
      },
      "outputs": [
        {
          "output_type": "stream",
          "name": "stdout",
          "text": [
            "   threshold  fpr  tpr\n",
            "0        0.0  1.0  1.0\n",
            "   threshold      fpr  tpr\n",
            "0       0.01  0.94382  1.0\n",
            "   threshold       fpr  tpr\n",
            "0       0.02  0.831461  1.0\n",
            "   threshold       fpr  tpr\n",
            "0       0.03  0.764045  1.0\n",
            "   threshold       fpr  tpr\n",
            "0       0.04  0.674157  1.0\n",
            "   threshold       fpr       tpr\n",
            "0       0.05  0.550562  0.916667\n",
            "   threshold       fpr       tpr\n",
            "0       0.06  0.483146  0.916667\n",
            "   threshold       fpr       tpr\n",
            "0       0.07  0.449438  0.916667\n",
            "   threshold       fpr       tpr\n",
            "0       0.08  0.359551  0.916667\n",
            "   threshold       fpr       tpr\n",
            "0       0.09  0.337079  0.916667\n",
            "   threshold       fpr       tpr\n",
            "0        0.1  0.314607  0.916667\n",
            "   threshold       fpr       tpr\n",
            "0       0.11  0.280899  0.916667\n",
            "   threshold       fpr       tpr\n",
            "0       0.12  0.247191  0.833333\n",
            "   threshold       fpr       tpr\n",
            "0       0.13  0.247191  0.833333\n",
            "   threshold       fpr       tpr\n",
            "0       0.14  0.235955  0.833333\n",
            "   threshold       fpr       tpr\n",
            "0       0.15  0.235955  0.833333\n",
            "   threshold       fpr       tpr\n",
            "0       0.16  0.235955  0.833333\n",
            "   threshold       fpr   tpr\n",
            "0       0.17  0.224719  0.75\n",
            "   threshold       fpr   tpr\n",
            "0       0.18  0.213483  0.75\n",
            "   threshold       fpr       tpr\n",
            "0       0.19  0.213483  0.666667\n",
            "   threshold       fpr       tpr\n",
            "0        0.2  0.202247  0.666667\n",
            "   threshold       fpr       tpr\n",
            "0       0.21  0.191011  0.666667\n",
            "   threshold       fpr       tpr\n",
            "0       0.22  0.191011  0.666667\n",
            "   threshold       fpr       tpr\n",
            "0       0.23  0.168539  0.666667\n",
            "   threshold       fpr  tpr\n",
            "0       0.24  0.168539  0.5\n",
            "   threshold       fpr  tpr\n",
            "0       0.25  0.168539  0.5\n",
            "   threshold       fpr  tpr\n",
            "0       0.26  0.168539  0.5\n",
            "   threshold       fpr  tpr\n",
            "0       0.27  0.146067  0.5\n",
            "   threshold       fpr  tpr\n",
            "0       0.28  0.146067  0.5\n",
            "   threshold       fpr  tpr\n",
            "0       0.29  0.134831  0.5\n",
            "   threshold       fpr  tpr\n",
            "0        0.3  0.134831  0.5\n",
            "   threshold       fpr  tpr\n",
            "0       0.31  0.123596  0.5\n",
            "   threshold       fpr  tpr\n",
            "0       0.32  0.123596  0.5\n",
            "   threshold       fpr  tpr\n",
            "0       0.33  0.123596  0.5\n",
            "   threshold       fpr  tpr\n",
            "0       0.34  0.123596  0.5\n",
            "   threshold      fpr  tpr\n",
            "0       0.35  0.11236  0.5\n",
            "   threshold       fpr  tpr\n",
            "0       0.36  0.101124  0.5\n",
            "   threshold       fpr       tpr\n",
            "0       0.37  0.101124  0.416667\n",
            "   threshold       fpr       tpr\n",
            "0       0.38  0.101124  0.416667\n",
            "   threshold       fpr       tpr\n",
            "0       0.39  0.101124  0.416667\n",
            "   threshold       fpr       tpr\n",
            "0        0.4  0.089888  0.333333\n",
            "   threshold       fpr       tpr\n",
            "0       0.41  0.078652  0.333333\n",
            "   threshold       fpr       tpr\n",
            "0       0.42  0.078652  0.333333\n",
            "   threshold       fpr   tpr\n",
            "0       0.43  0.078652  0.25\n",
            "   threshold       fpr   tpr\n",
            "0       0.44  0.067416  0.25\n",
            "   threshold      fpr       tpr\n",
            "0       0.45  0.05618  0.166667\n",
            "   threshold      fpr       tpr\n",
            "0       0.46  0.05618  0.166667\n",
            "   threshold      fpr       tpr\n",
            "0       0.47  0.05618  0.166667\n",
            "   threshold      fpr       tpr\n",
            "0       0.48  0.05618  0.166667\n",
            "   threshold      fpr       tpr\n",
            "0       0.49  0.05618  0.166667\n",
            "   threshold       fpr       tpr\n",
            "0        0.5  0.044944  0.166667\n",
            "   threshold       fpr       tpr\n",
            "0       0.51  0.033708  0.166667\n",
            "   threshold       fpr       tpr\n",
            "0       0.52  0.033708  0.166667\n",
            "   threshold       fpr       tpr\n",
            "0       0.53  0.033708  0.166667\n",
            "   threshold       fpr       tpr\n",
            "0       0.54  0.033708  0.166667\n",
            "   threshold       fpr       tpr\n",
            "0       0.55  0.033708  0.166667\n",
            "   threshold       fpr       tpr\n",
            "0       0.56  0.033708  0.166667\n",
            "   threshold       fpr       tpr\n",
            "0       0.57  0.033708  0.166667\n",
            "   threshold       fpr       tpr\n",
            "0       0.58  0.033708  0.166667\n",
            "   threshold       fpr       tpr\n",
            "0       0.59  0.022472  0.166667\n",
            "   threshold       fpr       tpr\n",
            "0        0.6  0.011236  0.166667\n",
            "   threshold       fpr       tpr\n",
            "0       0.61  0.011236  0.083333\n",
            "   threshold       fpr       tpr\n",
            "0       0.62  0.011236  0.083333\n",
            "   threshold       fpr       tpr\n",
            "0       0.63  0.011236  0.083333\n",
            "   threshold       fpr       tpr\n",
            "0       0.64  0.011236  0.083333\n",
            "   threshold       fpr  tpr\n",
            "0       0.65  0.011236  0.0\n",
            "   threshold       fpr  tpr\n",
            "0       0.66  0.011236  0.0\n",
            "   threshold       fpr  tpr\n",
            "0       0.67  0.011236  0.0\n",
            "   threshold       fpr  tpr\n",
            "0       0.68  0.011236  0.0\n",
            "   threshold       fpr  tpr\n",
            "0       0.69  0.011236  0.0\n",
            "   threshold       fpr  tpr\n",
            "0        0.7  0.011236  0.0\n",
            "   threshold       fpr  tpr\n",
            "0       0.71  0.011236  0.0\n",
            "   threshold       fpr  tpr\n",
            "0       0.72  0.011236  0.0\n",
            "   threshold       fpr  tpr\n",
            "0       0.73  0.011236  0.0\n",
            "   threshold       fpr  tpr\n",
            "0       0.74  0.011236  0.0\n",
            "   threshold  fpr  tpr\n",
            "0       0.75  0.0  0.0\n",
            "   threshold  fpr  tpr\n",
            "0       0.76  0.0  0.0\n",
            "   threshold  fpr  tpr\n",
            "0       0.77  0.0  0.0\n",
            "   threshold  fpr  tpr\n",
            "0       0.78  0.0  0.0\n",
            "   threshold  fpr  tpr\n",
            "0       0.79  0.0  0.0\n",
            "   threshold  fpr  tpr\n",
            "0        0.8  0.0  0.0\n",
            "   threshold  fpr  tpr\n",
            "0       0.81  0.0  0.0\n",
            "   threshold  fpr  tpr\n",
            "0       0.82  0.0  0.0\n",
            "   threshold  fpr  tpr\n",
            "0       0.83  0.0  0.0\n",
            "   threshold  fpr  tpr\n",
            "0       0.84  0.0  0.0\n",
            "   threshold  fpr  tpr\n",
            "0       0.85  0.0  0.0\n",
            "   threshold  fpr  tpr\n",
            "0       0.86  0.0  0.0\n",
            "   threshold  fpr  tpr\n",
            "0       0.87  0.0  0.0\n",
            "   threshold  fpr  tpr\n",
            "0       0.88  0.0  0.0\n",
            "   threshold  fpr  tpr\n",
            "0       0.89  0.0  0.0\n",
            "   threshold  fpr  tpr\n",
            "0        0.9  0.0  0.0\n",
            "   threshold  fpr  tpr\n",
            "0       0.91  0.0  0.0\n",
            "   threshold  fpr  tpr\n",
            "0       0.92  0.0  0.0\n",
            "   threshold  fpr  tpr\n",
            "0       0.93  0.0  0.0\n",
            "   threshold  fpr  tpr\n",
            "0       0.94  0.0  0.0\n",
            "   threshold  fpr  tpr\n",
            "0       0.95  0.0  0.0\n",
            "   threshold  fpr  tpr\n",
            "0       0.96  0.0  0.0\n",
            "   threshold  fpr  tpr\n",
            "0       0.97  0.0  0.0\n",
            "   threshold  fpr  tpr\n",
            "0       0.98  0.0  0.0\n",
            "   threshold  fpr  tpr\n",
            "0       0.99  0.0  0.0\n",
            "   threshold  fpr  tpr\n",
            "0        1.0  0.0  0.0\n"
          ]
        }
      ],
      "source": [
        "for thresh in np.arange(0, 1.01, .01):\n",
        "    print(fpr_tpr_thresh(df_test['high_sales'], df_test['predictive_prob'], thresh))"
      ]
    },
    {
      "cell_type": "code",
      "execution_count": null,
      "metadata": {
        "id": "7uCaN9M8uj9_",
        "colab": {
          "base_uri": "https://localhost:8080/"
        },
        "outputId": "dac2d153-e841-4bf6-b3ed-b2841c4ad107"
      },
      "outputs": [
        {
          "output_type": "execute_result",
          "data": {
            "text/plain": [
              "859    1\n",
              "474    1\n",
              "115    0\n",
              "51     1\n",
              "703    0\n",
              "Name: predictive_prob, dtype: int64"
            ]
          },
          "metadata": {},
          "execution_count": 63
        }
      ],
      "source": [
        "yhat = 1 * (df_test['predictive_prob'] >= 0.11)\n",
        "yhat.head()"
      ]
    },
    {
      "cell_type": "markdown",
      "source": [
        "An FPR of 0.280899 means that the model will incorrectly classify a game as having 'high sales' when it doesn't about 28% of the time, and a TPR of 0.91666 means that the model will correctly classify when a game will have high sales about 92% of the time.\n"
      ],
      "metadata": {
        "id": "xqFBWDv-q-91"
      }
    },
    {
      "cell_type": "markdown",
      "metadata": {
        "id": "nXy8I93xdi86"
      },
      "source": [
        "## 8. Additional Analysis/Insight"
      ]
    },
    {
      "cell_type": "code",
      "execution_count": null,
      "metadata": {
        "id": "6gg9hgqudi86"
      },
      "outputs": [],
      "source": [
        "kmeans = KMeans(n_clusters=3, random_state=100)"
      ]
    },
    {
      "cell_type": "code",
      "execution_count": null,
      "metadata": {
        "id": "0z-gRGcPdi86",
        "colab": {
          "base_uri": "https://localhost:8080/",
          "height": 130
        },
        "outputId": "e5638648-4cb4-407c-92ee-9f292fda2a6c"
      },
      "outputs": [
        {
          "output_type": "stream",
          "name": "stderr",
          "text": [
            "/usr/local/lib/python3.10/dist-packages/sklearn/cluster/_kmeans.py:870: FutureWarning: The default value of `n_init` will change from 10 to 'auto' in 1.4. Set the value of `n_init` explicitly to suppress the warning\n",
            "  warnings.warn(\n"
          ]
        },
        {
          "output_type": "execute_result",
          "data": {
            "text/plain": [
              "KMeans(n_clusters=3, random_state=100)"
            ],
            "text/html": [
              "<style>#sk-container-id-1 {color: black;background-color: white;}#sk-container-id-1 pre{padding: 0;}#sk-container-id-1 div.sk-toggleable {background-color: white;}#sk-container-id-1 label.sk-toggleable__label {cursor: pointer;display: block;width: 100%;margin-bottom: 0;padding: 0.3em;box-sizing: border-box;text-align: center;}#sk-container-id-1 label.sk-toggleable__label-arrow:before {content: \"▸\";float: left;margin-right: 0.25em;color: #696969;}#sk-container-id-1 label.sk-toggleable__label-arrow:hover:before {color: black;}#sk-container-id-1 div.sk-estimator:hover label.sk-toggleable__label-arrow:before {color: black;}#sk-container-id-1 div.sk-toggleable__content {max-height: 0;max-width: 0;overflow: hidden;text-align: left;background-color: #f0f8ff;}#sk-container-id-1 div.sk-toggleable__content pre {margin: 0.2em;color: black;border-radius: 0.25em;background-color: #f0f8ff;}#sk-container-id-1 input.sk-toggleable__control:checked~div.sk-toggleable__content {max-height: 200px;max-width: 100%;overflow: auto;}#sk-container-id-1 input.sk-toggleable__control:checked~label.sk-toggleable__label-arrow:before {content: \"▾\";}#sk-container-id-1 div.sk-estimator input.sk-toggleable__control:checked~label.sk-toggleable__label {background-color: #d4ebff;}#sk-container-id-1 div.sk-label input.sk-toggleable__control:checked~label.sk-toggleable__label {background-color: #d4ebff;}#sk-container-id-1 input.sk-hidden--visually {border: 0;clip: rect(1px 1px 1px 1px);clip: rect(1px, 1px, 1px, 1px);height: 1px;margin: -1px;overflow: hidden;padding: 0;position: absolute;width: 1px;}#sk-container-id-1 div.sk-estimator {font-family: monospace;background-color: #f0f8ff;border: 1px dotted black;border-radius: 0.25em;box-sizing: border-box;margin-bottom: 0.5em;}#sk-container-id-1 div.sk-estimator:hover {background-color: #d4ebff;}#sk-container-id-1 div.sk-parallel-item::after {content: \"\";width: 100%;border-bottom: 1px solid gray;flex-grow: 1;}#sk-container-id-1 div.sk-label:hover label.sk-toggleable__label {background-color: #d4ebff;}#sk-container-id-1 div.sk-serial::before {content: \"\";position: absolute;border-left: 1px solid gray;box-sizing: border-box;top: 0;bottom: 0;left: 50%;z-index: 0;}#sk-container-id-1 div.sk-serial {display: flex;flex-direction: column;align-items: center;background-color: white;padding-right: 0.2em;padding-left: 0.2em;position: relative;}#sk-container-id-1 div.sk-item {position: relative;z-index: 1;}#sk-container-id-1 div.sk-parallel {display: flex;align-items: stretch;justify-content: center;background-color: white;position: relative;}#sk-container-id-1 div.sk-item::before, #sk-container-id-1 div.sk-parallel-item::before {content: \"\";position: absolute;border-left: 1px solid gray;box-sizing: border-box;top: 0;bottom: 0;left: 50%;z-index: -1;}#sk-container-id-1 div.sk-parallel-item {display: flex;flex-direction: column;z-index: 1;position: relative;background-color: white;}#sk-container-id-1 div.sk-parallel-item:first-child::after {align-self: flex-end;width: 50%;}#sk-container-id-1 div.sk-parallel-item:last-child::after {align-self: flex-start;width: 50%;}#sk-container-id-1 div.sk-parallel-item:only-child::after {width: 0;}#sk-container-id-1 div.sk-dashed-wrapped {border: 1px dashed gray;margin: 0 0.4em 0.5em 0.4em;box-sizing: border-box;padding-bottom: 0.4em;background-color: white;}#sk-container-id-1 div.sk-label label {font-family: monospace;font-weight: bold;display: inline-block;line-height: 1.2em;}#sk-container-id-1 div.sk-label-container {text-align: center;}#sk-container-id-1 div.sk-container {/* jupyter's `normalize.less` sets `[hidden] { display: none; }` but bootstrap.min.css set `[hidden] { display: none !important; }` so we also need the `!important` here to be able to override the default hidden behavior on the sphinx rendered scikit-learn.org. See: https://github.com/scikit-learn/scikit-learn/issues/21755 */display: inline-block !important;position: relative;}#sk-container-id-1 div.sk-text-repr-fallback {display: none;}</style><div id=\"sk-container-id-1\" class=\"sk-top-container\"><div class=\"sk-text-repr-fallback\"><pre>KMeans(n_clusters=3, random_state=100)</pre><b>In a Jupyter environment, please rerun this cell to show the HTML representation or trust the notebook. <br />On GitHub, the HTML representation is unable to render, please try loading this page with nbviewer.org.</b></div><div class=\"sk-container\" hidden><div class=\"sk-item\"><div class=\"sk-estimator sk-toggleable\"><input class=\"sk-toggleable__control sk-hidden--visually\" id=\"sk-estimator-id-1\" type=\"checkbox\" checked><label for=\"sk-estimator-id-1\" class=\"sk-toggleable__label sk-toggleable__label-arrow\">KMeans</label><div class=\"sk-toggleable__content\"><pre>KMeans(n_clusters=3, random_state=100)</pre></div></div></div></div></div>"
            ]
          },
          "metadata": {},
          "execution_count": 65
        }
      ],
      "source": [
        "kmeans.fit(df_train[['review_score', 'extras_length', 'publisher_EA', 'publisher_Nintendo', 'publisher_Sega', 'publisher_Ubisoft']])"
      ]
    },
    {
      "cell_type": "code",
      "source": [
        "df_train['cluster'] = kmeans.labels_"
      ],
      "metadata": {
        "id": "MEKOLET1p1GC"
      },
      "execution_count": null,
      "outputs": []
    },
    {
      "cell_type": "code",
      "execution_count": null,
      "metadata": {
        "id": "iFjFRCHxdi86",
        "colab": {
          "base_uri": "https://localhost:8080/"
        },
        "outputId": "e371ecc4-8d36-492a-cc85-9e0a724db203"
      },
      "outputs": [
        {
          "output_type": "stream",
          "name": "stdout",
          "text": [
            "Silhouette Score: 0.31468086660873384\n"
          ]
        }
      ],
      "source": [
        "sil_score = silhouette_score(df_train[['review_score', 'extras_length', 'publisher_EA', 'publisher_Nintendo', 'publisher_Sega', 'publisher_Ubisoft']], df_train['cluster'])\n",
        "\n",
        "print(\"Silhouette Score:\", sil_score)"
      ]
    },
    {
      "cell_type": "markdown",
      "metadata": {
        "id": "DV6izpdndi86"
      },
      "source": [
        "\n",
        "Because of the model's silhouette score of 0.315, it is apparent that clustering the dataset will provide a better analysis of predictive probability. This is because the silhouette score is above 0 and does show that the predictive KMeans model shows a correlation even though it may be relatively weak. However, we cannot say that this anaylisis is super useful as a 0.315 silhouette score is lower than our set threshold of 0.5. From this analysis we see that KMeans clustering will provide slightly further insight into the model and may have a slight benefit when it comes to overall predictive probability in the model. However, it is not super relevant or concrete as this value is relatively small."
      ]
    },
    {
      "cell_type": "markdown",
      "metadata": {
        "id": "lu-3K4rtdi86"
      },
      "source": [
        "## 9. Conclusion"
      ]
    },
    {
      "cell_type": "markdown",
      "metadata": {
        "id": "ys9nnppIdi86"
      },
      "source": [
        "\n",
        "\n",
        "Our primary research goal of the analysis was to build a predictive model that will perform the best when predicting whether or not a video game has high sales (1 million or more) in new datasets. Because our AUC and TPR were relatively high, this model can be considered trustworthy. The model has an FPR of 0.0280899, which means the predictor will classify a game as having high sales when it doesn't 28% of the time, and a TPR of 0.91666, which means it will correctly predict when a game will have high sales 92% of the time. Due to the model's high TPR and low FPR, this model would be adequate for predicting our primary research goal.\n"
      ]
    },
    {
      "cell_type": "markdown",
      "source": [
        "This model would be better than most other models due to the use of a backward selection algorithm to determine which model would yield the highest fit to our test dataset. However, there could have been more concrete ways of finding the exact model that would yield the highest AUC, one of which being LASSO regression to ensure that overfitting is not an impact and to locate a specific lambda value that would yield the highest AUC. Pursuing alternative methods to find the best model may have been relatively beneficial as it could have possibly led to us finding a model with a higher AUC. Including more explanatory variables from the original CSV may also yield a more concrete result in finding a higher AUC and create a model that would be better suited to our primary research goal. One other shortcoming is that our final dataset could've undergone more extensive cleaning to ensure that all data points do not skew the results in one way or another, and that our dataset could be more representative of more 'typical' data points. Also, our model could suffer from multicollinearity due to the presence of a relationship between our categorical explanatory variable and our numerical explanatory variables."
      ],
      "metadata": {
        "id": "lRREsBeNVuRO"
      }
    },
    {
      "cell_type": "markdown",
      "source": [
        "Based on our analysis, a future goal we could pursue would be to find a model that best predicts `review_score` based on all of the given explanatory variables in the dataset. In conclusion, because of the accuracy of our current model, we are confident in using it to predict whether a game would have high sales, and we believe that an investor could benefit from the use of our model when it comes to predicting whether or not a game will have high sales."
      ],
      "metadata": {
        "id": "RCbkHNmDWb50"
      }
    },
    {
      "cell_type": "markdown",
      "metadata": {
        "id": "itwTSrSzdi86"
      },
      "source": [
        "## References"
      ]
    },
    {
      "cell_type": "markdown",
      "source": [
        "(Clement, J. (n.d.). Topic: Video game industry. Statista. https://www.statista.com/topics/868/video-games/#topicOverview).\n",
        "\n",
        "(The Comprehensive Guide to Investment Research. Corporate Finance Institute. (2024, January 9). https://corporatefinanceinstitute.com/resources/capital_markets/comprehensive-guide-to-investment-research/)\n",
        "\n",
        "https://corgis-edu.github.io/corgis/csv/video_games/.\n"
      ],
      "metadata": {
        "id": "_wxyHiTg-DPD"
      }
    }
  ],
  "metadata": {
    "colab": {
      "provenance": []
    },
    "kernelspec": {
      "display_name": "Python 3 (ipykernel)",
      "language": "python",
      "name": "python3"
    },
    "language_info": {
      "codemirror_mode": {
        "name": "ipython",
        "version": 3
      },
      "file_extension": ".py",
      "mimetype": "text/x-python",
      "name": "python",
      "nbconvert_exporter": "python",
      "pygments_lexer": "ipython3",
      "version": "3.9.12"
    }
  },
  "nbformat": 4,
  "nbformat_minor": 0
}